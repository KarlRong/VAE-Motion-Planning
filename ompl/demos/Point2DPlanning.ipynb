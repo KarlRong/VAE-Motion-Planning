{
 "cells": [
  {
   "cell_type": "code",
   "execution_count": 7,
   "metadata": {},
   "outputs": [],
   "source": [
    "from os.path import abspath, dirname, join\n",
    "import sys\n",
    "import os\n",
    "try:\n",
    "    from ompl import util as ou\n",
    "    from ompl import base as ob\n",
    "    from ompl import geometric as og\n",
    "except ImportError:\n",
    "    # if the ompl module is not in the PYTHONPATH assume it is installed in a\n",
    "    # subdirectory of the parent directory called \"py-bindings.\"\n",
    "    sys.path.insert(0, join(dirname(dirname(abspath(__file__))), 'py-bindings'))\n",
    "    from ompl import util as ou\n",
    "    from ompl import base as ob\n",
    "    from ompl import geometric as og\n",
    "from functools import partial\n",
    "\n",
    "class Plane2DEnvironment:\n",
    "    def __init__(self, ppm_file):\n",
    "        self.ppm_ = ou.PPM()\n",
    "        self.ppm_.loadFile(ppm_file)\n",
    "        space = ob.RealVectorStateSpace()\n",
    "        space.addDimension(0.0, self.ppm_.getWidth())\n",
    "        space.addDimension(0.0, self.ppm_.getHeight())\n",
    "        self.maxWidth_ = self.ppm_.getWidth() - 1\n",
    "        self.maxHeight_ = self.ppm_.getHeight() - 1\n",
    "        self.ss_ = og.SimpleSetup(space)\n",
    "\n",
    "        # set state validity checking for this space\n",
    "        self.ss_.setStateValidityChecker(ob.StateValidityCheckerFn(\n",
    "            partial(Plane2DEnvironment.isStateValid, self)))\n",
    "        space.setup()\n",
    "        self.ss_.getSpaceInformation().setStateValidityCheckingResolution( \\\n",
    "            1.0 / space.getMaximumExtent())\n",
    "        #      self.ss_.setPlanner(og.RRTConnect(self.ss_.getSpaceInformation()))\n",
    "\n",
    "    def plan(self, start_row, start_col, goal_row, goal_col):\n",
    "        if not self.ss_:\n",
    "            return False\n",
    "        start = ob.State(self.ss_.getStateSpace())\n",
    "        start()[0] = start_row\n",
    "        start()[1] = start_col\n",
    "        goal = ob.State(self.ss_.getStateSpace())\n",
    "        goal()[0] = goal_row\n",
    "        goal()[1] = goal_col\n",
    "        self.ss_.setStartAndGoalStates(start, goal)\n",
    "        # generate a few solutions; all will be added to the goal\n",
    "        for _ in range(10):\n",
    "            if self.ss_.getPlanner():\n",
    "                self.ss_.getPlanner().clear()\n",
    "            self.ss_.solve()\n",
    "        ns = self.ss_.getProblemDefinition().getSolutionCount()\n",
    "        print(\"Found %d solutions\" % ns)\n",
    "        if self.ss_.haveSolutionPath():\n",
    "            self.ss_.simplifySolution()\n",
    "            p = self.ss_.getSolutionPath()\n",
    "            ps = og.PathSimplifier(self.ss_.getSpaceInformation())\n",
    "            ps.simplifyMax(p)\n",
    "            ps.smoothBSpline(p)\n",
    "            return True\n",
    "        return False\n",
    "\n",
    "    def recordSolution(self):\n",
    "        if not self.ss_ or not self.ss_.haveSolutionPath():\n",
    "            return\n",
    "        p = self.ss_.getSolutionPath()\n",
    "        p.interpolate()\n",
    "        for i in range(p.getStateCount()):\n",
    "            w = min(self.maxWidth_, int(p.getState(i)[0]))\n",
    "            h = min(self.maxHeight_, int(p.getState(i)[1]))\n",
    "            c = self.ppm_.getPixel(h, w)\n",
    "            c.red = 255\n",
    "            c.green = 0\n",
    "            c.blue = 0\n",
    "\n",
    "    def save(self, filename):\n",
    "        if not self.ss_:\n",
    "            return\n",
    "        self.ppm_.saveFile(filename)\n",
    "\n",
    "    def isStateValid(self, state):\n",
    "        w = min(int(state[0]), self.maxWidth_)\n",
    "        h = min(int(state[1]), self.maxHeight_)\n",
    "\n",
    "        c = self.ppm_.getPixel(h, w)\n",
    "        return c.red > 127 and c.green > 127 and c.blue > 127"
   ]
  },
  {
   "cell_type": "code",
   "execution_count": 22,
   "metadata": {},
   "outputs": [
    {
     "name": "stdout",
     "output_type": "stream",
     "text": [
      "Found 10 solutions\n"
     ]
    }
   ],
   "source": [
    "fname = '/home/rong/VAE-Motion-Planning/ompl/demos/floor.ppm'\n",
    "env = Plane2DEnvironment(fname)\n",
    "\n",
    "if env.plan(0, 0, 777, 1265):\n",
    "    env.recordSolution()\n",
    "    env.save(\"result_demo.ppm\")"
   ]
  },
  {
   "cell_type": "code",
   "execution_count": null,
   "metadata": {},
   "outputs": [],
   "source": []
  }
 ],
 "metadata": {
  "kernelspec": {
   "display_name": "Python 3",
   "language": "python",
   "name": "python3"
  },
  "language_info": {
   "codemirror_mode": {
    "name": "ipython",
    "version": 3
   },
   "file_extension": ".py",
   "mimetype": "text/x-python",
   "name": "python",
   "nbconvert_exporter": "python",
   "pygments_lexer": "ipython3",
   "version": "3.7.5"
  }
 },
 "nbformat": 4,
 "nbformat_minor": 4
}
