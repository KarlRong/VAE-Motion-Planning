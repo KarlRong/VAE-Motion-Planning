{
 "cells": [
  {
   "cell_type": "code",
   "execution_count": 1,
   "metadata": {},
   "outputs": [],
   "source": [
    "import os\n",
    "import argparse\n",
    "import time\n",
    "\n",
    "import matplotlib as mpl\n",
    "mpl.use('TkAgg') # sets the backend for matplotlib\n",
    "import matplotlib.pyplot as plt\n",
    "\n",
    "from utils.redraw_obstacles import redraw_obstacles, set_non_blocking\n",
    "from utils.create_draw_params import create_draw_params\n",
    "from commonroad.common.file_reader import CommonRoadFileReader\n",
    "from commonroad.visualization.draw_dispatch_cr import draw_object\n",
    "\n",
    "import numpy as np"
   ]
  },
  {
   "cell_type": "code",
   "execution_count": 2,
   "metadata": {
    "scrolled": true
   },
   "outputs": [],
   "source": [
    "file_path = '/home/rong/VAE-Motion-Planning/scenarios/commonroad_data/highway-ramp.cr.xml'\n",
    "scenario, _ = CommonRoadFileReader(file_path).open()"
   ]
  },
  {
   "cell_type": "code",
   "execution_count": 3,
   "metadata": {},
   "outputs": [],
   "source": [
    "def show_lane(scenario):\n",
    "    plt.figure(figsize=(250, 100))\n",
    "    draw_params={'time_begin':0}\n",
    "    handles = {}\n",
    "    draw_object(scenario, handles=handles, draw_params=draw_params)\n",
    "    plt.gca().autoscale()\n",
    "    plt.gca().set_aspect('equal')\n",
    "    plt.show()"
   ]
  },
  {
   "cell_type": "code",
   "execution_count": 4,
   "metadata": {},
   "outputs": [
    {
     "ename": "KeyboardInterrupt",
     "evalue": "",
     "output_type": "error",
     "traceback": [
      "\u001b[0;31m---------------------------------------------------------------------------\u001b[0m",
      "\u001b[0;31mKeyboardInterrupt\u001b[0m                         Traceback (most recent call last)",
      "\u001b[0;32m<ipython-input-4-da1efb427d7f>\u001b[0m in \u001b[0;36m<module>\u001b[0;34m\u001b[0m\n\u001b[0;32m----> 1\u001b[0;31m \u001b[0mshow_lane\u001b[0m\u001b[0;34m(\u001b[0m\u001b[0mscenario\u001b[0m\u001b[0;34m)\u001b[0m\u001b[0;34m\u001b[0m\u001b[0;34m\u001b[0m\u001b[0m\n\u001b[0m",
      "\u001b[0;32m<ipython-input-3-5cb602aa1c36>\u001b[0m in \u001b[0;36mshow_lane\u001b[0;34m(scenario)\u001b[0m\n\u001b[1;32m      6\u001b[0m     \u001b[0mplt\u001b[0m\u001b[0;34m.\u001b[0m\u001b[0mgca\u001b[0m\u001b[0;34m(\u001b[0m\u001b[0;34m)\u001b[0m\u001b[0;34m.\u001b[0m\u001b[0mautoscale\u001b[0m\u001b[0;34m(\u001b[0m\u001b[0;34m)\u001b[0m\u001b[0;34m\u001b[0m\u001b[0;34m\u001b[0m\u001b[0m\n\u001b[1;32m      7\u001b[0m     \u001b[0mplt\u001b[0m\u001b[0;34m.\u001b[0m\u001b[0mgca\u001b[0m\u001b[0;34m(\u001b[0m\u001b[0;34m)\u001b[0m\u001b[0;34m.\u001b[0m\u001b[0mset_aspect\u001b[0m\u001b[0;34m(\u001b[0m\u001b[0;34m'equal'\u001b[0m\u001b[0;34m)\u001b[0m\u001b[0;34m\u001b[0m\u001b[0;34m\u001b[0m\u001b[0m\n\u001b[0;32m----> 8\u001b[0;31m     \u001b[0mplt\u001b[0m\u001b[0;34m.\u001b[0m\u001b[0mshow\u001b[0m\u001b[0;34m(\u001b[0m\u001b[0;34m)\u001b[0m\u001b[0;34m\u001b[0m\u001b[0;34m\u001b[0m\u001b[0m\n\u001b[0m",
      "\u001b[0;32m~/anaconda3/envs/flow/lib/python3.6/site-packages/matplotlib/pyplot.py\u001b[0m in \u001b[0;36mshow\u001b[0;34m(*args, **kw)\u001b[0m\n\u001b[1;32m    251\u001b[0m     \"\"\"\n\u001b[1;32m    252\u001b[0m     \u001b[0;32mglobal\u001b[0m \u001b[0m_show\u001b[0m\u001b[0;34m\u001b[0m\u001b[0;34m\u001b[0m\u001b[0m\n\u001b[0;32m--> 253\u001b[0;31m     \u001b[0;32mreturn\u001b[0m \u001b[0m_show\u001b[0m\u001b[0;34m(\u001b[0m\u001b[0;34m*\u001b[0m\u001b[0margs\u001b[0m\u001b[0;34m,\u001b[0m \u001b[0;34m**\u001b[0m\u001b[0mkw\u001b[0m\u001b[0;34m)\u001b[0m\u001b[0;34m\u001b[0m\u001b[0;34m\u001b[0m\u001b[0m\n\u001b[0m\u001b[1;32m    254\u001b[0m \u001b[0;34m\u001b[0m\u001b[0m\n\u001b[1;32m    255\u001b[0m \u001b[0;34m\u001b[0m\u001b[0m\n",
      "\u001b[0;32m~/anaconda3/envs/flow/lib/python3.6/site-packages/matplotlib/backend_bases.py\u001b[0m in \u001b[0;36mshow\u001b[0;34m(cls, block)\u001b[0m\n\u001b[1;32m   3264\u001b[0m                 \u001b[0mblock\u001b[0m \u001b[0;34m=\u001b[0m \u001b[0;32mTrue\u001b[0m\u001b[0;34m\u001b[0m\u001b[0;34m\u001b[0m\u001b[0m\n\u001b[1;32m   3265\u001b[0m         \u001b[0;32mif\u001b[0m \u001b[0mblock\u001b[0m\u001b[0;34m:\u001b[0m\u001b[0;34m\u001b[0m\u001b[0;34m\u001b[0m\u001b[0m\n\u001b[0;32m-> 3266\u001b[0;31m             \u001b[0mcls\u001b[0m\u001b[0;34m.\u001b[0m\u001b[0mmainloop\u001b[0m\u001b[0;34m(\u001b[0m\u001b[0;34m)\u001b[0m\u001b[0;34m\u001b[0m\u001b[0;34m\u001b[0m\u001b[0m\n\u001b[0m\u001b[1;32m   3267\u001b[0m \u001b[0;34m\u001b[0m\u001b[0m\n\u001b[1;32m   3268\u001b[0m     \u001b[0;31m# This method is the one actually exporting the required methods.\u001b[0m\u001b[0;34m\u001b[0m\u001b[0;34m\u001b[0m\u001b[0;34m\u001b[0m\u001b[0m\n",
      "\u001b[0;32m~/anaconda3/envs/flow/lib/python3.6/site-packages/matplotlib/backends/_backend_tk.py\u001b[0m in \u001b[0;36mmainloop\u001b[0;34m()\u001b[0m\n\u001b[1;32m   1035\u001b[0m     \u001b[0;34m@\u001b[0m\u001b[0mstaticmethod\u001b[0m\u001b[0;34m\u001b[0m\u001b[0;34m\u001b[0m\u001b[0m\n\u001b[1;32m   1036\u001b[0m     \u001b[0;32mdef\u001b[0m \u001b[0mmainloop\u001b[0m\u001b[0;34m(\u001b[0m\u001b[0;34m)\u001b[0m\u001b[0;34m:\u001b[0m\u001b[0;34m\u001b[0m\u001b[0;34m\u001b[0m\u001b[0m\n\u001b[0;32m-> 1037\u001b[0;31m         \u001b[0mTk\u001b[0m\u001b[0;34m.\u001b[0m\u001b[0mmainloop\u001b[0m\u001b[0;34m(\u001b[0m\u001b[0;34m)\u001b[0m\u001b[0;34m\u001b[0m\u001b[0;34m\u001b[0m\u001b[0m\n\u001b[0m",
      "\u001b[0;32m~/anaconda3/envs/flow/lib/python3.6/tkinter/__init__.py\u001b[0m in \u001b[0;36mmainloop\u001b[0;34m(n)\u001b[0m\n\u001b[1;32m    558\u001b[0m \u001b[0;32mdef\u001b[0m \u001b[0mmainloop\u001b[0m\u001b[0;34m(\u001b[0m\u001b[0mn\u001b[0m\u001b[0;34m=\u001b[0m\u001b[0;36m0\u001b[0m\u001b[0;34m)\u001b[0m\u001b[0;34m:\u001b[0m\u001b[0;34m\u001b[0m\u001b[0;34m\u001b[0m\u001b[0m\n\u001b[1;32m    559\u001b[0m     \u001b[0;34m\"\"\"Run the main loop of Tcl.\"\"\"\u001b[0m\u001b[0;34m\u001b[0m\u001b[0;34m\u001b[0m\u001b[0m\n\u001b[0;32m--> 560\u001b[0;31m     \u001b[0m_default_root\u001b[0m\u001b[0;34m.\u001b[0m\u001b[0mtk\u001b[0m\u001b[0;34m.\u001b[0m\u001b[0mmainloop\u001b[0m\u001b[0;34m(\u001b[0m\u001b[0mn\u001b[0m\u001b[0;34m)\u001b[0m\u001b[0;34m\u001b[0m\u001b[0;34m\u001b[0m\u001b[0m\n\u001b[0m\u001b[1;32m    561\u001b[0m \u001b[0;34m\u001b[0m\u001b[0m\n\u001b[1;32m    562\u001b[0m \u001b[0mgetint\u001b[0m \u001b[0;34m=\u001b[0m \u001b[0mint\u001b[0m\u001b[0;34m\u001b[0m\u001b[0;34m\u001b[0m\u001b[0m\n",
      "\u001b[0;31mKeyboardInterrupt\u001b[0m: "
     ]
    }
   ],
   "source": [
    "show_lane(scenario)"
   ]
  },
  {
   "cell_type": "code",
   "execution_count": 74,
   "metadata": {
    "scrolled": true
   },
   "outputs": [],
   "source": [
    "def plt_window(sce, dur, draw_params, size, pos):\n",
    "    set_non_blocking()  # ensures interactive plotting is activated\n",
    "    figsize = size\n",
    "    fig = plt.figure(figsize=(figsize[0] / inch_in_cm, figsize[1] / inch_in_cm))\n",
    "    ax = plt.Axes(fig, [0., 0., 1., 1.])\n",
    "    ax.set_axis_off()\n",
    "    # ax.set_facecolor(\"black\")\n",
    "    # ax.set_cmap(\"binary\")\n",
    "    fig.add_axes(ax)\n",
    "    fig.patch.set_facecolor('black')\n",
    "    plt.xlim(pos[0] - size[0]/2, pos[0] + size[0]/2)\n",
    "    plt.ylim( pos[1] -size[1]/2, pos[1] + size[1]/2)\n",
    "    plt.set_cmap(\"plasma\")\n",
    "    plt.gca().set_aspect('equal')\n",
    "    handles = {}  # collects handles of obstacle patches, plotted by matplotlib\n",
    "    plot_limits = [pos[0] - size[0]/2, pos[0] + size[0]/2, pos[1] +-size[1]/2, pos[1] + size[1]/2]\n",
    "    draw_params['time_begin'] = dur[0]\n",
    "    draw_object(sce, handles=handles, draw_params=draw_params, plot_limits=plot_limits)\n",
    "    # plt.gray()\n",
    "    fig.canvas.draw()\n",
    "    for handles_i in handles:\n",
    "        if not handles_i:\n",
    "            handles.pop()\n",
    "\n",
    "    data = np.zeros(( (duration[1] - duration[0],) + fig.canvas.get_width_height()[::-1]), dtype='bool')\n",
    "\n",
    "    t1 = time.time()\n",
    "    # loop where obstacle positions are updated\n",
    "    for i in range(dur[0], dur[1]):\n",
    "        # ...\n",
    "        # change positions of obstacles\n",
    "        # ...\n",
    "        draw_params['time_begin'] = i\n",
    "        redraw_obstacles(sce, handles=handles, figure_handle=fig, plot_limits=plot_limits, draw_params=draw_params)\n",
    "        buffer = np.frombuffer(fig.canvas.renderer.buffer_rgba(), dtype=np.uint8).reshape(fig.canvas.get_width_height()[::-1] + (4,))\n",
    "        buffer = buffer[:, : , 0].astype(bool)\n",
    "        data[(i-duration[0]), :, : ] = buffer\n",
    "        print('fps:', (i - duration[0])/(time.time()-t1))\n",
    "    return data"
   ]
  },
  {
   "cell_type": "code",
   "execution_count": 7,
   "metadata": {
    "scrolled": true
   },
   "outputs": [
    {
     "name": "stdout",
     "output_type": "stream",
     "text": [
      "fps: 0.0\n",
      "fps: 13.50552868670346\n",
      "fps: 18.756180616887836\n",
      "fps: 22.48462268348513\n",
      "fps: 24.515119191305185\n",
      "fps: 25.69176526509481\n",
      "fps: 26.87387366222361\n",
      "fps: 27.57093945500679\n",
      "fps: 28.17053558085765\n",
      "fps: 28.92780833286715\n",
      "fps: 29.37854247042046\n",
      "fps: 29.71084289245975\n",
      "fps: 29.88263331415635\n",
      "fps: 30.23230200613673\n",
      "fps: 30.27263606902873\n",
      "fps: 30.184229918938836\n",
      "fps: 29.938918397555952\n",
      "fps: 30.24303974429013\n",
      "fps: 30.341447966492275\n",
      "fps: 30.57795458801067\n",
      "fps: 30.58485094976434\n",
      "fps: 29.744064383056493\n",
      "fps: 28.783606748628348\n",
      "fps: 28.40876896894851\n",
      "fps: 28.632626643171957\n",
      "fps: 28.8179901369092\n",
      "fps: 29.02170588764418\n",
      "fps: 29.065369627635125\n",
      "fps: 29.187607349856833\n",
      "fps: 29.367068754801565\n",
      "fps: 29.412322126434834\n",
      "fps: 29.6135791607156\n",
      "fps: 29.525045678583794\n",
      "fps: 29.051212373397362\n",
      "fps: 28.302118238059062\n",
      "fps: 28.420792390695134\n",
      "fps: 28.515830498494182\n",
      "fps: 28.501521961833966\n",
      "fps: 28.01057833578202\n",
      "fps: 27.750397863269395\n",
      "fps: 27.621986205484056\n",
      "fps: 27.56326024118709\n",
      "fps: 27.00145628813445\n",
      "fps: 26.25299724813443\n",
      "fps: 25.710155915104234\n",
      "fps: 25.50316628188813\n",
      "fps: 25.13603997836824\n",
      "fps: 23.97434496362784\n",
      "fps: 23.267108687193026\n",
      "fps: 22.908075172757254\n",
      "fps: 22.36153778650043\n",
      "fps: 21.865644802402233\n",
      "fps: 21.646377024474074\n",
      "fps: 21.144363200657907\n",
      "fps: 21.00505418001591\n",
      "fps: 20.980701918093974\n",
      "fps: 20.769820930932777\n",
      "fps: 20.495754214858305\n",
      "fps: 20.162837266171405\n",
      "fps: 20.052643307348344\n",
      "fps: 19.942517664181217\n",
      "fps: 19.596912258943526\n",
      "fps: 19.53396363085687\n",
      "fps: 19.447259254003914\n",
      "fps: 19.40424377792651\n",
      "fps: 19.41159386464077\n",
      "fps: 19.433782230123295\n",
      "fps: 19.387166065818782\n",
      "fps: 19.24130116958571\n",
      "fps: 19.253970919354284\n",
      "fps: 19.28965878411162\n",
      "fps: 19.34484219103789\n",
      "fps: 19.213008074632437\n",
      "fps: 19.165337865984057\n",
      "fps: 19.08140732915747\n",
      "fps: 18.949957485413567\n",
      "fps: 18.974129604417023\n",
      "fps: 18.958621591648473\n",
      "fps: 19.001119719367974\n",
      "fps: 18.987257822938943\n",
      "fps: 18.832800125857208\n",
      "fps: 18.791111890866198\n",
      "fps: 18.81305259076716\n",
      "fps: 18.785965321262907\n",
      "fps: 18.49876867057744\n",
      "fps: 18.481889848683334\n",
      "fps: 18.460325439168873\n",
      "fps: 18.30384595783375\n",
      "fps: 18.11321548792633\n",
      "fps: 17.895384788850905\n",
      "fps: 17.795745613673247\n",
      "fps: 17.777450375032796\n",
      "fps: 17.77557989934406\n",
      "fps: 17.6978553927379\n",
      "fps: 17.648284242851467\n",
      "fps: 17.61849350093485\n",
      "fps: 17.555031154102615\n",
      "fps: 17.487869657849448\n",
      "fps: 17.444480923704663\n",
      "fps: 17.479519799518243\n"
     ]
    }
   ],
   "source": [
    "size = [200, 40]\n",
    "pos = [350, 135]\n",
    "duration = [0, 100]\n",
    "inch_in_cm = 10\n",
    "draw_params = create_draw_params()\n",
    "\n",
    "origin_data = plt_window(sce=scenario, dur=duration, draw_params=draw_params, size=size, pos=pos)"
   ]
  },
  {
   "cell_type": "code",
   "execution_count": 8,
   "metadata": {},
   "outputs": [],
   "source": [
    "def plt_data(data):\n",
    "    fig = plt.figure()\n",
    "    plt.gray()\n",
    "    if len(data.shape) <=2:\n",
    "        plt.imshow(data)\n",
    "    else:\n",
    "        myobj = plt.imshow(data[0, :, :])\n",
    "        for row in data:\n",
    "            myobj.set_data(row)\n",
    "            plt.draw()\n",
    "            plt.pause(0.01)"
   ]
  },
  {
   "cell_type": "code",
   "execution_count": 9,
   "metadata": {},
   "outputs": [],
   "source": [
    "plt_data(origin_data)"
   ]
  },
  {
   "cell_type": "code",
   "execution_count": 10,
   "metadata": {},
   "outputs": [],
   "source": [
    "from commonroad.scenario.scenario import Scenario\n",
    "\n",
    "ego_scenario = Scenario(dt=0.1, benchmark_id=scenario.benchmark_id)\n",
    "ego_scenario.lanelet_network = scenario.lanelet_network"
   ]
  },
  {
   "cell_type": "code",
   "execution_count": 93,
   "metadata": {},
   "outputs": [],
   "source": [
    "ego_id = 114\n",
    "# ego_obstacle = scenario.dynamic_obstacles[ego_id]\n",
    "# ego_obstacle_new = copy.deepcopy(ego_obstacle)"
   ]
  },
  {
   "cell_type": "code",
   "execution_count": 94,
   "metadata": {},
   "outputs": [],
   "source": [
    "obstacle = scenario.obstacle_by_id(ego_id)\n",
    "scenario.remove_obstacle(scenario.obstacle_by_id(ego_id))\n",
    "ego_scenario.add_objects(obstacle)\n",
    "# show_lane(ego_scenario)"
   ]
  },
  {
   "cell_type": "code",
   "execution_count": 95,
   "metadata": {},
   "outputs": [],
   "source": [
    "ego_scenario.remove_obstacle(ego_scenario.dynamic_obstacles[0])"
   ]
  },
  {
   "cell_type": "code",
   "execution_count": 121,
   "metadata": {
    "scrolled": true
   },
   "outputs": [
    {
     "name": "stdout",
     "output_type": "stream",
     "text": [
      "fps: 0.0\n",
      "fps: 7.140273911970242\n",
      "fps: 9.450642896815427\n",
      "fps: 9.751013041480261\n",
      "fps: 11.434657942714988\n",
      "fps: 13.102024700243405\n",
      "fps: 13.860282571974452\n",
      "fps: 14.87311705943142\n",
      "fps: 15.690199012419573\n",
      "fps: 15.96962158978993\n",
      "fps: 16.033247655584624\n",
      "fps: 15.879575363833235\n",
      "fps: 15.507455227656038\n",
      "fps: 15.00723499860045\n",
      "fps: 14.58147138125564\n",
      "fps: 14.069664727485137\n",
      "fps: 14.014270950081746\n",
      "fps: 13.832844581607054\n",
      "fps: 13.751132593952978\n",
      "fps: 13.626010343841775\n",
      "fps: 13.615814495538823\n",
      "fps: 13.66898299671592\n",
      "fps: 13.551506546380088\n",
      "fps: 13.770936696139758\n",
      "fps: 13.851467483692103\n",
      "fps: 13.868181806158429\n",
      "fps: 14.044373262916508\n",
      "fps: 13.953234338648759\n",
      "fps: 13.93199096939495\n",
      "fps: 13.688527267090146\n",
      "fps: 13.513468349395032\n",
      "fps: 13.625886112515081\n",
      "fps: 13.589411783764518\n",
      "fps: 13.564688383765773\n",
      "fps: 13.595332413035687\n",
      "fps: 13.75084900350336\n",
      "fps: 13.843555796944726\n",
      "fps: 13.96110555147129\n",
      "fps: 13.950581485930515\n",
      "fps: 13.989428512638629\n"
     ]
    }
   ],
   "source": [
    "size = [400, 30]\n",
    "duration = [0, 0]\n",
    "tra = ego_scenario.dynamic_obstacles[0].prediction.trajectory\n",
    "duration[0] = tra.initial_time_step + 40\n",
    "duration[1] =  tra.initial_time_step + 80\n",
    "pos = tra.state_list[39].position + [100, 0]\n",
    "ego_data = plt_window(sce=ego_scenario, dur=duration, draw_params=draw_params, size=size, pos=pos)"
   ]
  },
  {
   "cell_type": "code",
   "execution_count": 167,
   "metadata": {
    "scrolled": true
   },
   "outputs": [
    {
     "name": "stdout",
     "output_type": "stream",
     "text": [
      "fps: 0.0\n",
      "fps: 5.241458254448481\n",
      "fps: 6.976298272518305\n",
      "fps: 7.436739986512946\n",
      "fps: 8.052655249325754\n",
      "fps: 8.010658713375951\n",
      "fps: 8.260089271032014\n",
      "fps: 8.203916738431998\n",
      "fps: 8.456903841195535\n",
      "fps: 8.596321880751473\n",
      "fps: 8.73895443092674\n",
      "fps: 8.605929629138437\n",
      "fps: 8.570304161765538\n",
      "fps: 8.6703834572131\n",
      "fps: 8.785721349913018\n",
      "fps: 8.790618207710144\n",
      "fps: 8.786764873399573\n",
      "fps: 8.736685784414151\n",
      "fps: 8.782266254192654\n",
      "fps: 8.861169505980516\n",
      "fps: 8.96716404380807\n",
      "fps: 9.056906802182409\n",
      "fps: 9.13643156856451\n",
      "fps: 9.136451155796351\n",
      "fps: 9.17680701330876\n",
      "fps: 9.204014467644507\n",
      "fps: 9.251751587723017\n",
      "fps: 9.234649663578399\n",
      "fps: 9.216557712319716\n",
      "fps: 9.16590658892043\n",
      "fps: 9.124736373913326\n",
      "fps: 9.174675232670184\n",
      "fps: 9.13436868819888\n",
      "fps: 9.036746458641089\n",
      "fps: 9.06544592447484\n",
      "fps: 9.057731619471545\n",
      "fps: 9.093727550990419\n",
      "fps: 9.076490168170006\n",
      "fps: 9.058498248358049\n",
      "fps: 9.097803728691238\n"
     ]
    }
   ],
   "source": [
    "obsereved = plt_window(sce=scenario, dur=duration, draw_params=draw_params, size=size, pos=pos)"
   ]
  },
  {
   "cell_type": "code",
   "execution_count": 115,
   "metadata": {},
   "outputs": [],
   "source": [
    "plt_data(obsereved)"
   ]
  },
  {
   "cell_type": "code",
   "execution_count": 120,
   "metadata": {},
   "outputs": [
    {
     "name": "stdout",
     "output_type": "stream",
     "text": [
      "Dynamic Obstacle:\n",
      "\n",
      "id: 115\n",
      "initial state: \n",
      "position= [  4.85 139.82]\n",
      "orientation= -0.0\n",
      "velocity= 30.0\n",
      "time_step= 24010\n",
      "\n",
      "Dynamic Obstacle:\n",
      "\n",
      "id: 116\n",
      "initial state: \n",
      "position= [  4.85 136.62]\n",
      "orientation= -0.0\n",
      "velocity= 30.0\n",
      "time_step= 24034\n",
      "\n"
     ]
    }
   ],
   "source": [
    "print(ego_scenario.dynamic_obstacles[0])\n",
    "print(scenario.dynamic_obstacles[0])"
   ]
  },
  {
   "cell_type": "code",
   "execution_count": 118,
   "metadata": {},
   "outputs": [],
   "source": [
    "obstacle = scenario.dynamic_obstacles[0]\n",
    "scenario.remove_obstacle(obstacle)\n",
    "ego_scenario.add_objects(obstacle)"
   ]
  },
  {
   "cell_type": "code",
   "execution_count": 119,
   "metadata": {},
   "outputs": [],
   "source": [
    "ego_scenario.remove_obstacle(ego_scenario.dynamic_obstacles[0])"
   ]
  },
  {
   "cell_type": "code",
   "execution_count": 164,
   "metadata": {},
   "outputs": [],
   "source": [
    "from commonroad.prediction.prediction import Prediction, Occupancy\n",
    "def occupancy_at_time(self, time_step: int) -> Union[None, Occupancy]:\n",
    "    \"\"\"\n",
    "    Returns the predicted occupancy of the obstacle at a specific time step.\n",
    "\n",
    "    :param time_step: discrete time step\n",
    "    :return: predicted occupancy of the obstacle at time step\n",
    "    \"\"\"\n",
    "    occupancy = None\n",
    "    if time_step == self.initial_state.time_step:\n",
    "        shape = self.obstacle_shape.rotate_translate_local(\n",
    "            self.initial_state.position, self.initial_state.orientation)\n",
    "        occupancy = Occupancy(time_step, shape)\n",
    "    elif time_step > self.initial_state.time_step and time_step < (self.initial_state.time_step + len(self._prediction.trajectory.state_list)) and   self._prediction is not None:\n",
    "        occupancy = self._prediction.occupancy_at_time_step(time_step)\n",
    "    return occupancy"
   ]
  },
  {
   "cell_type": "code",
   "execution_count": 165,
   "metadata": {},
   "outputs": [],
   "source": [
    "from commonroad.scenario.obstacle import StaticObstacle, DynamicObstacle, Obstacle\n",
    "DynamicObstacle.occupancy_at_time = occupancy_at_time"
   ]
  },
  {
   "cell_type": "code",
   "execution_count": 166,
   "metadata": {},
   "outputs": [
    {
     "data": {
      "text/plain": [
       "<commonroad.prediction.prediction.Occupancy at 0x7ff3b3518fd0>"
      ]
     },
     "execution_count": 166,
     "metadata": {},
     "output_type": "execute_result"
    }
   ],
   "source": [
    "ego_scenario.dynamic_obstacles[0].occupancy_at_time(24500)"
   ]
  },
  {
   "cell_type": "code",
   "execution_count": null,
   "metadata": {},
   "outputs": [],
   "source": []
  }
 ],
 "metadata": {
  "kernelspec": {
   "display_name": "Python 3",
   "language": "python",
   "name": "python3"
  },
  "language_info": {
   "codemirror_mode": {
    "name": "ipython",
    "version": 3
   },
   "file_extension": ".py",
   "mimetype": "text/x-python",
   "name": "python",
   "nbconvert_exporter": "python",
   "pygments_lexer": "ipython3",
   "version": "3.6.8"
  }
 },
 "nbformat": 4,
 "nbformat_minor": 4
}
