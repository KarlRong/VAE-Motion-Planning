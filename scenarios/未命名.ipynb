{
 "cells": [
  {
   "cell_type": "code",
   "execution_count": 1,
   "metadata": {},
   "outputs": [],
   "source": [
    "import os\n",
    "import argparse\n",
    "import time\n",
    "\n",
    "import matplotlib as mpl\n",
    "mpl.use('TkAgg') # sets the backend for matplotlib\n",
    "import matplotlib.pyplot as plt\n",
    "\n",
    "from utils.redraw_obstacles import redraw_obstacles, set_non_blocking\n",
    "from utils.create_draw_params import create_draw_params\n",
    "from commonroad.common.file_reader import CommonRoadFileReader\n",
    "from commonroad.visualization.draw_dispatch_cr import draw_object\n",
    "\n",
    "import numpy as np"
   ]
  },
  {
   "cell_type": "code",
   "execution_count": 2,
   "metadata": {
    "scrolled": true
   },
   "outputs": [],
   "source": [
    "file_path = '/home/rong/VAE-Motion-Planning/scenarios/commonroad_data/highway-ramp.cr.xml'\n",
    "scenario, _ = CommonRoadFileReader(file_path).open()"
   ]
  },
  {
   "cell_type": "code",
   "execution_count": 3,
   "metadata": {},
   "outputs": [],
   "source": [
    "def show_lane(scenario):\n",
    "    plt.figure(figsize=(250, 100))\n",
    "    draw_params={'time_begin':0}\n",
    "    handles = {}\n",
    "    draw_object(scenario, handles=handles, draw_params=draw_params)\n",
    "    plt.gca().autoscale()\n",
    "    plt.gca().set_aspect('equal')\n",
    "    plt.show()"
   ]
  },
  {
   "cell_type": "code",
   "execution_count": 4,
   "metadata": {},
   "outputs": [
    {
     "ename": "KeyboardInterrupt",
     "evalue": "",
     "output_type": "error",
     "traceback": [
      "\u001b[0;31m---------------------------------------------------------------------------\u001b[0m",
      "\u001b[0;31mKeyboardInterrupt\u001b[0m                         Traceback (most recent call last)",
      "\u001b[0;32m<ipython-input-4-da1efb427d7f>\u001b[0m in \u001b[0;36m<module>\u001b[0;34m\u001b[0m\n\u001b[0;32m----> 1\u001b[0;31m \u001b[0mshow_lane\u001b[0m\u001b[0;34m(\u001b[0m\u001b[0mscenario\u001b[0m\u001b[0;34m)\u001b[0m\u001b[0;34m\u001b[0m\u001b[0;34m\u001b[0m\u001b[0m\n\u001b[0m",
      "\u001b[0;32m<ipython-input-3-5cb602aa1c36>\u001b[0m in \u001b[0;36mshow_lane\u001b[0;34m(scenario)\u001b[0m\n\u001b[1;32m      6\u001b[0m     \u001b[0mplt\u001b[0m\u001b[0;34m.\u001b[0m\u001b[0mgca\u001b[0m\u001b[0;34m(\u001b[0m\u001b[0;34m)\u001b[0m\u001b[0;34m.\u001b[0m\u001b[0mautoscale\u001b[0m\u001b[0;34m(\u001b[0m\u001b[0;34m)\u001b[0m\u001b[0;34m\u001b[0m\u001b[0;34m\u001b[0m\u001b[0m\n\u001b[1;32m      7\u001b[0m     \u001b[0mplt\u001b[0m\u001b[0;34m.\u001b[0m\u001b[0mgca\u001b[0m\u001b[0;34m(\u001b[0m\u001b[0;34m)\u001b[0m\u001b[0;34m.\u001b[0m\u001b[0mset_aspect\u001b[0m\u001b[0;34m(\u001b[0m\u001b[0;34m'equal'\u001b[0m\u001b[0;34m)\u001b[0m\u001b[0;34m\u001b[0m\u001b[0;34m\u001b[0m\u001b[0m\n\u001b[0;32m----> 8\u001b[0;31m     \u001b[0mplt\u001b[0m\u001b[0;34m.\u001b[0m\u001b[0mshow\u001b[0m\u001b[0;34m(\u001b[0m\u001b[0;34m)\u001b[0m\u001b[0;34m\u001b[0m\u001b[0;34m\u001b[0m\u001b[0m\n\u001b[0m",
      "\u001b[0;32m~/anaconda3/envs/flow/lib/python3.6/site-packages/matplotlib/pyplot.py\u001b[0m in \u001b[0;36mshow\u001b[0;34m(*args, **kw)\u001b[0m\n\u001b[1;32m    251\u001b[0m     \"\"\"\n\u001b[1;32m    252\u001b[0m     \u001b[0;32mglobal\u001b[0m \u001b[0m_show\u001b[0m\u001b[0;34m\u001b[0m\u001b[0;34m\u001b[0m\u001b[0m\n\u001b[0;32m--> 253\u001b[0;31m     \u001b[0;32mreturn\u001b[0m \u001b[0m_show\u001b[0m\u001b[0;34m(\u001b[0m\u001b[0;34m*\u001b[0m\u001b[0margs\u001b[0m\u001b[0;34m,\u001b[0m \u001b[0;34m**\u001b[0m\u001b[0mkw\u001b[0m\u001b[0;34m)\u001b[0m\u001b[0;34m\u001b[0m\u001b[0;34m\u001b[0m\u001b[0m\n\u001b[0m\u001b[1;32m    254\u001b[0m \u001b[0;34m\u001b[0m\u001b[0m\n\u001b[1;32m    255\u001b[0m \u001b[0;34m\u001b[0m\u001b[0m\n",
      "\u001b[0;32m~/anaconda3/envs/flow/lib/python3.6/site-packages/matplotlib/backend_bases.py\u001b[0m in \u001b[0;36mshow\u001b[0;34m(cls, block)\u001b[0m\n\u001b[1;32m   3264\u001b[0m                 \u001b[0mblock\u001b[0m \u001b[0;34m=\u001b[0m \u001b[0;32mTrue\u001b[0m\u001b[0;34m\u001b[0m\u001b[0;34m\u001b[0m\u001b[0m\n\u001b[1;32m   3265\u001b[0m         \u001b[0;32mif\u001b[0m \u001b[0mblock\u001b[0m\u001b[0;34m:\u001b[0m\u001b[0;34m\u001b[0m\u001b[0;34m\u001b[0m\u001b[0m\n\u001b[0;32m-> 3266\u001b[0;31m             \u001b[0mcls\u001b[0m\u001b[0;34m.\u001b[0m\u001b[0mmainloop\u001b[0m\u001b[0;34m(\u001b[0m\u001b[0;34m)\u001b[0m\u001b[0;34m\u001b[0m\u001b[0;34m\u001b[0m\u001b[0m\n\u001b[0m\u001b[1;32m   3267\u001b[0m \u001b[0;34m\u001b[0m\u001b[0m\n\u001b[1;32m   3268\u001b[0m     \u001b[0;31m# This method is the one actually exporting the required methods.\u001b[0m\u001b[0;34m\u001b[0m\u001b[0;34m\u001b[0m\u001b[0;34m\u001b[0m\u001b[0m\n",
      "\u001b[0;32m~/anaconda3/envs/flow/lib/python3.6/site-packages/matplotlib/backends/_backend_tk.py\u001b[0m in \u001b[0;36mmainloop\u001b[0;34m()\u001b[0m\n\u001b[1;32m   1035\u001b[0m     \u001b[0;34m@\u001b[0m\u001b[0mstaticmethod\u001b[0m\u001b[0;34m\u001b[0m\u001b[0;34m\u001b[0m\u001b[0m\n\u001b[1;32m   1036\u001b[0m     \u001b[0;32mdef\u001b[0m \u001b[0mmainloop\u001b[0m\u001b[0;34m(\u001b[0m\u001b[0;34m)\u001b[0m\u001b[0;34m:\u001b[0m\u001b[0;34m\u001b[0m\u001b[0;34m\u001b[0m\u001b[0m\n\u001b[0;32m-> 1037\u001b[0;31m         \u001b[0mTk\u001b[0m\u001b[0;34m.\u001b[0m\u001b[0mmainloop\u001b[0m\u001b[0;34m(\u001b[0m\u001b[0;34m)\u001b[0m\u001b[0;34m\u001b[0m\u001b[0;34m\u001b[0m\u001b[0m\n\u001b[0m",
      "\u001b[0;32m~/anaconda3/envs/flow/lib/python3.6/tkinter/__init__.py\u001b[0m in \u001b[0;36mmainloop\u001b[0;34m(n)\u001b[0m\n\u001b[1;32m    558\u001b[0m \u001b[0;32mdef\u001b[0m \u001b[0mmainloop\u001b[0m\u001b[0;34m(\u001b[0m\u001b[0mn\u001b[0m\u001b[0;34m=\u001b[0m\u001b[0;36m0\u001b[0m\u001b[0;34m)\u001b[0m\u001b[0;34m:\u001b[0m\u001b[0;34m\u001b[0m\u001b[0;34m\u001b[0m\u001b[0m\n\u001b[1;32m    559\u001b[0m     \u001b[0;34m\"\"\"Run the main loop of Tcl.\"\"\"\u001b[0m\u001b[0;34m\u001b[0m\u001b[0;34m\u001b[0m\u001b[0m\n\u001b[0;32m--> 560\u001b[0;31m     \u001b[0m_default_root\u001b[0m\u001b[0;34m.\u001b[0m\u001b[0mtk\u001b[0m\u001b[0;34m.\u001b[0m\u001b[0mmainloop\u001b[0m\u001b[0;34m(\u001b[0m\u001b[0mn\u001b[0m\u001b[0;34m)\u001b[0m\u001b[0;34m\u001b[0m\u001b[0;34m\u001b[0m\u001b[0m\n\u001b[0m\u001b[1;32m    561\u001b[0m \u001b[0;34m\u001b[0m\u001b[0m\n\u001b[1;32m    562\u001b[0m \u001b[0mgetint\u001b[0m \u001b[0;34m=\u001b[0m \u001b[0mint\u001b[0m\u001b[0;34m\u001b[0m\u001b[0;34m\u001b[0m\u001b[0m\n",
      "\u001b[0;31mKeyboardInterrupt\u001b[0m: "
     ]
    }
   ],
   "source": [
    "show_lane(scenario)"
   ]
  },
  {
   "cell_type": "code",
   "execution_count": 32,
   "metadata": {
    "scrolled": true
   },
   "outputs": [],
   "source": [
    "def plt_window(sce, dur, draw_params, size, pos):\n",
    "    set_non_blocking()  # ensures interactive plotting is activated\n",
    "    figsize = size\n",
    "    fig = plt.figure(figsize=(figsize[0] / inch_in_cm, figsize[1] / inch_in_cm))\n",
    "    ax = plt.Axes(fig, [0., 0., 1., 1.])\n",
    "    ax.set_axis_off()\n",
    "    # ax.set_facecolor(\"black\")\n",
    "    # ax.set_cmap(\"binary\")\n",
    "    fig.add_axes(ax)\n",
    "    fig.patch.set_facecolor('black')\n",
    "#     plt.xlim(pos[0] - size[0]/2, pos[0] + size[0]/2)\n",
    "#     plt.ylim( pos[1] -size[1]/2, pos[1] + size[1]/2)\n",
    "    plt.set_cmap(\"plasma\")\n",
    "    handles = {}  # collects handles of obstacle patches, plotted by matplotlib\n",
    "    plot_limits = [pos[0] - size[0]/2, pos[0] + size[0]/2, pos[1] +-size[1]/2, pos[1] + size[1]/2]\n",
    "    draw_params['time_begin'] = dur[0]\n",
    "    draw_object(sce, handles=handles, draw_params=draw_params, plot_limits=plot_limits)\n",
    "    # plt.gray()\n",
    "    fig.canvas.draw()\n",
    "    for handles_i in handles:\n",
    "        if not handles_i:\n",
    "            handles.pop()\n",
    "\n",
    "    data = np.zeros(( (duration[1] - duration[0],) + fig.canvas.get_width_height()[::-1]), dtype='bool')\n",
    "\n",
    "    t1 = time.time()\n",
    "    # loop where obstacle positions are updated\n",
    "    for i in range(dur[0], dur[1]):\n",
    "        # ...\n",
    "        # change positions of obstacles\n",
    "        # ...\n",
    "        draw_params['time_begin'] = i\n",
    "        redraw_obstacles(sce, handles=handles, figure_handle=fig, plot_limits=plot_limits, draw_params=draw_params)\n",
    "        buffer = np.frombuffer(fig.canvas.renderer.buffer_rgba(), dtype=np.uint8).reshape(fig.canvas.get_width_height()[::-1] + (4,))\n",
    "        buffer = buffer[:, : , 0].astype(bool)\n",
    "        data[(i-duration[0]), :, : ] = buffer\n",
    "        print('fps:', (i - duration[0])/(time.time()-t1))\n",
    "    return data"
   ]
  },
  {
   "cell_type": "code",
   "execution_count": 6,
   "metadata": {
    "scrolled": true
   },
   "outputs": [
    {
     "name": "stdout",
     "output_type": "stream",
     "text": [
      "fps: 0.0\n",
      "fps: 11.281773751469295\n",
      "fps: 15.243145806076464\n",
      "fps: 16.225672925902714\n",
      "fps: 17.809432922770878\n",
      "fps: 18.631646093679205\n",
      "fps: 18.983189131697454\n",
      "fps: 19.68052005681586\n",
      "fps: 20.367521160000194\n",
      "fps: 20.819904826408575\n",
      "fps: 21.157120842591635\n",
      "fps: 21.095012118671075\n",
      "fps: 20.582283295036735\n",
      "fps: 20.87578045915578\n",
      "fps: 20.66485357297702\n",
      "fps: 19.718241702860645\n",
      "fps: 19.39990911287926\n",
      "fps: 19.15207305936073\n",
      "fps: 18.99621924836866\n",
      "fps: 18.702682785959382\n",
      "fps: 18.160819853524597\n",
      "fps: 17.987214185168252\n",
      "fps: 17.18527568422864\n",
      "fps: 16.916585125314153\n",
      "fps: 16.443111164761735\n",
      "fps: 16.634579141543426\n",
      "fps: 16.75274925405097\n",
      "fps: 16.89225853702922\n",
      "fps: 17.073107588602703\n",
      "fps: 17.269280936067858\n",
      "fps: 17.388700071224658\n",
      "fps: 17.500016352837985\n",
      "fps: 17.734485860994003\n",
      "fps: 17.839675727635033\n",
      "fps: 17.92116845853633\n",
      "fps: 18.131361387581602\n",
      "fps: 18.2021226555544\n",
      "fps: 18.36716953432922\n",
      "fps: 18.4684946414981\n",
      "fps: 18.560221264156212\n",
      "fps: 18.65138348304905\n",
      "fps: 18.770524878197016\n",
      "fps: 18.63834136413527\n",
      "fps: 18.495928190027165\n",
      "fps: 18.43570915535097\n",
      "fps: 18.367966828141505\n",
      "fps: 17.866049160761953\n",
      "fps: 17.821212990991864\n",
      "fps: 17.658675263805762\n",
      "fps: 17.44782345039392\n",
      "fps: 17.33406665089604\n",
      "fps: 17.311158662304244\n",
      "fps: 16.980985210061476\n",
      "fps: 16.925244829971415\n",
      "fps: 16.503218563266934\n",
      "fps: 16.48698157446945\n",
      "fps: 16.309606759513716\n",
      "fps: 16.110203818141706\n",
      "fps: 15.870808927749643\n",
      "fps: 15.830537007849637\n",
      "fps: 15.739438238346395\n",
      "fps: 15.559006023832621\n",
      "fps: 15.511680995088335\n",
      "fps: 15.435597027994598\n",
      "fps: 15.37991602437452\n",
      "fps: 15.351451587082922\n",
      "fps: 15.297021501111894\n",
      "fps: 15.216686231374789\n",
      "fps: 14.98793593078698\n",
      "fps: 14.851712560294498\n",
      "fps: 14.82095421390047\n",
      "fps: 14.750705126852496\n",
      "fps: 14.676766110270625\n",
      "fps: 14.663808465256952\n",
      "fps: 14.551644946769358\n",
      "fps: 14.5189943420873\n",
      "fps: 14.530271621046417\n",
      "fps: 14.558193392693385\n",
      "fps: 14.49039916532506\n",
      "fps: 14.328530994619676\n",
      "fps: 14.270540601725584\n",
      "fps: 14.232545758800228\n",
      "fps: 14.230637810407877\n",
      "fps: 14.232731478842968\n",
      "fps: 14.157108664255778\n",
      "fps: 14.125881169174773\n",
      "fps: 14.1144667102232\n",
      "fps: 14.077147304922686\n",
      "fps: 14.04062696347382\n",
      "fps: 14.02853802702699\n",
      "fps: 13.952754870570836\n",
      "fps: 13.94372994465056\n",
      "fps: 13.854374312713457\n",
      "fps: 13.766242678075297\n",
      "fps: 13.687342184790515\n",
      "fps: 13.580684303996323\n",
      "fps: 13.483513358216829\n",
      "fps: 13.472003540193525\n",
      "fps: 13.422012971856606\n",
      "fps: 13.417787039583231\n"
     ]
    }
   ],
   "source": [
    "size = [200, 40]\n",
    "pos = [350, 135]\n",
    "duration = [0, 100]\n",
    "inch_in_cm = 10\n",
    "draw_params = create_draw_params()\n",
    "\n",
    "origin_data = plt_window(scenario=scenario, duration=duration, draw_params=draw_params, size=size, pos=pos)"
   ]
  },
  {
   "cell_type": "code",
   "execution_count": 7,
   "metadata": {},
   "outputs": [],
   "source": [
    "def plt_data(data):\n",
    "    fig = plt.figure()\n",
    "    plt.gray()\n",
    "    if len(data.shape) <=2:\n",
    "        plt.imshow(data)\n",
    "    else:\n",
    "        myobj = plt.imshow(data[0, :, :])\n",
    "        for row in data:\n",
    "            myobj.set_data(row)\n",
    "            plt.draw()\n",
    "            plt.pause(0.01)"
   ]
  },
  {
   "cell_type": "code",
   "execution_count": 9,
   "metadata": {},
   "outputs": [],
   "source": [
    "plt_data(origin_data)"
   ]
  },
  {
   "cell_type": "code",
   "execution_count": 10,
   "metadata": {},
   "outputs": [],
   "source": [
    "from commonroad.scenario.scenario import Scenario\n",
    "\n",
    "ego_scenario = Scenario(dt=0.1, benchmark_id=scenario.benchmark_id)\n",
    "ego_scenario.lanelet_network = scenario.lanelet_network"
   ]
  },
  {
   "cell_type": "code",
   "execution_count": 105,
   "metadata": {},
   "outputs": [],
   "source": [
    "import copy\n",
    "\n",
    "ego_id = 142\n",
    "# ego_obstacle = scenario.dynamic_obstacles[ego_id]\n",
    "# ego_obstacle_new = copy.deepcopy(ego_obstacle)"
   ]
  },
  {
   "cell_type": "code",
   "execution_count": 106,
   "metadata": {},
   "outputs": [],
   "source": [
    "obstacle = scenario.obstacle_by_id(ego_id)\n",
    "scenario.remove_obstacle(scenario.obstacle_by_id(ego_id))\n",
    "ego_scenario.add_objects(obstacle)\n",
    "# show_lane(ego_scenario)"
   ]
  },
  {
   "cell_type": "code",
   "execution_count": 113,
   "metadata": {
    "scrolled": true
   },
   "outputs": [
    {
     "name": "stdout",
     "output_type": "stream",
     "text": [
      "fps: 0.0\n",
      "fps: 13.011040280427466\n",
      "fps: 16.92654195311034\n",
      "fps: 19.547212370615128\n",
      "fps: 21.208900620191493\n",
      "fps: 22.715330491144154\n",
      "fps: 24.187000285448196\n",
      "fps: 24.772799989199918\n",
      "fps: 25.563139089295372\n",
      "fps: 26.436299690527363\n",
      "fps: 27.434802914131495\n",
      "fps: 28.479543115905575\n",
      "fps: 29.231671854010205\n",
      "fps: 29.402682728888003\n",
      "fps: 29.37788693265079\n",
      "fps: 29.767498197330344\n",
      "fps: 30.354917457742808\n",
      "fps: 30.761597426667265\n",
      "fps: 31.140182120482304\n",
      "fps: 31.49355975205648\n",
      "fps: 31.956127128016004\n",
      "fps: 31.565255721177657\n",
      "fps: 30.553712963327804\n",
      "fps: 29.183045281233476\n",
      "fps: 28.308817545155247\n",
      "fps: 27.977194036126786\n",
      "fps: 28.286560551766357\n",
      "fps: 28.405602951371993\n",
      "fps: 28.436276045689613\n",
      "fps: 28.595015124454974\n",
      "fps: 28.530267167878996\n",
      "fps: 27.902531269347186\n",
      "fps: 27.439010543406685\n",
      "fps: 27.143254507075067\n",
      "fps: 26.53691127798394\n",
      "fps: 26.531019289123595\n",
      "fps: 26.00579380262905\n",
      "fps: 25.449588285031524\n",
      "fps: 25.15742406851102\n",
      "fps: 25.044546745636055\n",
      "fps: 24.470591255373154\n",
      "fps: 24.39881222715354\n",
      "fps: 24.313439948922124\n",
      "fps: 24.45371144970975\n",
      "fps: 24.345608284104383\n",
      "fps: 24.339300304538366\n",
      "fps: 24.340603462522978\n",
      "fps: 24.362084617869574\n",
      "fps: 24.318782564201925\n",
      "fps: 24.17949502582472\n",
      "fps: 24.23015616630688\n",
      "fps: 24.103962226859252\n",
      "fps: 23.928175038401253\n",
      "fps: 23.721671889462687\n",
      "fps: 23.437389444770865\n",
      "fps: 22.999122653097036\n"
     ]
    }
   ],
   "source": [
    "duration = [24394, 24450]\n",
    "ego_data = plt_window(sce=ego_scenario, dur=duration, draw_params=draw_params, size=size, pos=pos)"
   ]
  },
  {
   "cell_type": "code",
   "execution_count": 114,
   "metadata": {
    "scrolled": true
   },
   "outputs": [
    {
     "name": "stdout",
     "output_type": "stream",
     "text": [
      "fps: 0.0\n",
      "fps: 0.4555973089771908\n",
      "fps: 0.5984766633848437\n",
      "fps: 0.6369986789639371\n",
      "fps: 0.6863782930351235\n",
      "fps: 0.7011400874987492\n",
      "fps: 0.7045617289392705\n",
      "fps: 0.7157580966612468\n",
      "fps: 0.732618450393719\n",
      "fps: 0.7525175395285283\n",
      "fps: 0.7550081321298793\n",
      "fps: 0.7611387119056108\n",
      "fps: 0.7660418919114516\n",
      "fps: 0.7710341696156471\n",
      "fps: 0.7770105288040398\n",
      "fps: 0.7753484806951667\n",
      "fps: 0.7788996087376304\n",
      "fps: 0.7737832944809369\n",
      "fps: 0.7696595000030686\n",
      "fps: 0.7739537549191804\n",
      "fps: 0.7769978475348019\n",
      "fps: 0.7823626524294812\n",
      "fps: 0.783313657259647\n",
      "fps: 0.7860560494701441\n",
      "fps: 0.7831016826729582\n",
      "fps: 0.7837631239321627\n",
      "fps: 0.7813093266185512\n",
      "fps: 0.7810010003975066\n",
      "fps: 0.7839530895837727\n",
      "fps: 0.7804452632553617\n",
      "fps: 0.7817403607953007\n",
      "fps: 0.779698813434237\n",
      "fps: 0.7814409761677661\n",
      "fps: 0.7806335603636497\n",
      "fps: 0.7801978818896899\n",
      "fps: 0.7802603496327132\n",
      "fps: 0.7790495037373624\n",
      "fps: 0.7771069930589273\n",
      "fps: 0.7745627218754065\n",
      "fps: 0.7740406328392723\n",
      "fps: 0.7739553059551203\n",
      "fps: 0.7729083182937767\n",
      "fps: 0.7724158184211969\n",
      "fps: 0.7701100656383478\n",
      "fps: 0.7695596099657719\n",
      "fps: 0.7674459843163431\n",
      "fps: 0.76787014967567\n",
      "fps: 0.7671524848334356\n",
      "fps: 0.7684734303361985\n",
      "fps: 0.7678030989641279\n",
      "fps: 0.7693591275578902\n",
      "fps: 0.7687634585579112\n",
      "fps: 0.7682756490802283\n",
      "fps: 0.770031638246525\n",
      "fps: 0.7713049635167006\n",
      "fps: 0.7713494414857777\n"
     ]
    }
   ],
   "source": [
    "obsereved = plt_window(sce=scenario, dur=duration, draw_params=draw_params, size=size, pos=pos)"
   ]
  },
  {
   "cell_type": "code",
   "execution_count": 28,
   "metadata": {},
   "outputs": [
    {
     "name": "stdout",
     "output_type": "stream",
     "text": [
      "Dynamic Obstacle:\n",
      "\n",
      "id: 111\n",
      "initial state: \n",
      "position= [  4.85 133.42]\n",
      "orientation= 0.5236\n",
      "velocity= 30.0\n",
      "time_step= 10\n",
      "\n"
     ]
    }
   ],
   "source": [
    "print(ego_scenario.dynamic_obstacles[0])"
   ]
  },
  {
   "cell_type": "code",
   "execution_count": 29,
   "metadata": {},
   "outputs": [
    {
     "name": "stdout",
     "output_type": "stream",
     "text": [
      "Dynamic Obstacle:\n",
      "\n",
      "id: 112\n",
      "initial state: \n",
      "position= [  4.85 139.82]\n",
      "orientation= 0.5236\n",
      "velocity= 30.0\n",
      "time_step= 34\n",
      "\n"
     ]
    }
   ],
   "source": [
    "print(scenario.dynamic_obstacles[0])"
   ]
  },
  {
   "cell_type": "code",
   "execution_count": 19,
   "metadata": {},
   "outputs": [],
   "source": [
    "plt_data(ego_data)"
   ]
  },
  {
   "cell_type": "code",
   "execution_count": 105,
   "metadata": {},
   "outputs": [],
   "source": [
    "plt_data(obsereved)"
   ]
  },
  {
   "cell_type": "code",
   "execution_count": null,
   "metadata": {},
   "outputs": [],
   "source": []
  }
 ],
 "metadata": {
  "kernelspec": {
   "display_name": "Python 3",
   "language": "python",
   "name": "python3"
  },
  "language_info": {
   "codemirror_mode": {
    "name": "ipython",
    "version": 3
   },
   "file_extension": ".py",
   "mimetype": "text/x-python",
   "name": "python",
   "nbconvert_exporter": "python",
   "pygments_lexer": "ipython3",
   "version": "3.6.8"
  }
 },
 "nbformat": 4,
 "nbformat_minor": 4
}
