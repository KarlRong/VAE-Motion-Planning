{
 "cells": [
  {
   "cell_type": "code",
   "execution_count": 5,
   "metadata": {},
   "outputs": [],
   "source": [
    "import numpy as np\n",
    "import pandas as pd"
   ]
  },
  {
   "cell_type": "code",
   "execution_count": 6,
   "metadata": {},
   "outputs": [],
   "source": [
    "dataset = np.array(pd.read_csv(\"data/NarrowPassage/narrowDataOcc.txt\", header=None), dtype='float32')"
   ]
  },
  {
   "cell_type": "code",
   "execution_count": 7,
   "metadata": {},
   "outputs": [],
   "source": [
    "X_dim = 6\n",
    "c_dim = 21\n",
    "\n",
    "gridSize = 100\n",
    "occ_dim = gridSize**2 + X_dim * 2\n",
    "sampledata=dataset[:, :X_dim]\n",
    "gapdata=dataset[:, X_dim:(c_dim + X_dim)]\n",
    "occ = np.zeros([len(dataset), gridSize**2], dtype=bool)"
   ]
  },
  {
   "cell_type": "code",
   "execution_count": 8,
   "metadata": {},
   "outputs": [
    {
     "name": "stdout",
     "output_type": "stream",
     "text": [
      "iter:0\n",
      "iter:500\n",
      "iter:1000\n",
      "iter:1500\n",
      "iter:2000\n",
      "iter:2500\n",
      "iter:3000\n",
      "iter:3500\n",
      "iter:4000\n",
      "iter:4500\n",
      "iter:5000\n",
      "iter:5500\n",
      "iter:6000\n",
      "iter:6500\n",
      "iter:7000\n",
      "iter:7500\n",
      "iter:8000\n",
      "iter:8500\n",
      "iter:9000\n",
      "iter:9500\n",
      "iter:10000\n",
      "iter:10500\n",
      "iter:11000\n",
      "iter:11500\n",
      "iter:12000\n",
      "iter:12500\n",
      "iter:13000\n",
      "iter:13500\n",
      "iter:14000\n",
      "iter:14500\n",
      "iter:15000\n",
      "iter:15500\n",
      "iter:16000\n",
      "iter:16500\n",
      "iter:17000\n",
      "iter:17500\n",
      "iter:18000\n",
      "iter:18500\n",
      "iter:19000\n",
      "iter:19500\n",
      "iter:20000\n",
      "iter:20500\n",
      "iter:21000\n",
      "iter:21500\n",
      "iter:22000\n",
      "iter:22500\n",
      "iter:23000\n",
      "iter:23500\n",
      "iter:24000\n",
      "iter:24500\n",
      "iter:25000\n",
      "iter:25500\n",
      "iter:26000\n",
      "iter:26500\n",
      "iter:27000\n",
      "iter:27500\n",
      "iter:28000\n",
      "iter:28500\n",
      "iter:29000\n",
      "iter:29500\n",
      "iter:30000\n",
      "iter:30500\n",
      "iter:31000\n",
      "iter:31500\n",
      "iter:32000\n",
      "iter:32500\n",
      "iter:33000\n",
      "iter:33500\n",
      "iter:34000\n",
      "iter:34500\n",
      "iter:35000\n",
      "iter:35500\n",
      "iter:36000\n",
      "iter:36500\n",
      "iter:37000\n",
      "iter:37500\n",
      "iter:38000\n",
      "iter:38500\n",
      "iter:39000\n",
      "iter:39500\n",
      "iter:40000\n",
      "iter:40500\n",
      "iter:41000\n",
      "iter:41500\n",
      "iter:42000\n",
      "iter:42500\n",
      "iter:43000\n",
      "iter:43500\n",
      "iter:44000\n",
      "iter:44500\n",
      "iter:45000\n",
      "iter:45500\n",
      "iter:46000\n",
      "iter:46500\n",
      "iter:47000\n",
      "iter:47500\n",
      "iter:48000\n",
      "iter:48500\n",
      "iter:49000\n",
      "iter:49500\n",
      "iter:50000\n",
      "iter:50500\n",
      "iter:51000\n",
      "iter:51500\n",
      "iter:52000\n",
      "iter:52500\n",
      "iter:53000\n",
      "iter:53500\n",
      "iter:54000\n",
      "iter:54500\n",
      "iter:55000\n",
      "iter:55500\n",
      "iter:56000\n",
      "iter:56500\n",
      "iter:57000\n",
      "iter:57500\n",
      "iter:58000\n",
      "iter:58500\n",
      "iter:59000\n",
      "iter:59500\n",
      "iter:60000\n",
      "iter:60500\n",
      "iter:61000\n",
      "iter:61500\n",
      "iter:62000\n",
      "iter:62500\n",
      "iter:63000\n",
      "iter:63500\n",
      "iter:64000\n",
      "iter:64500\n",
      "iter:65000\n",
      "iter:65500\n",
      "iter:66000\n",
      "iter:66500\n",
      "iter:67000\n",
      "iter:67500\n",
      "iter:68000\n",
      "iter:68500\n",
      "iter:69000\n",
      "iter:69500\n",
      "iter:70000\n",
      "iter:70500\n",
      "iter:71000\n",
      "iter:71500\n",
      "iter:72000\n",
      "iter:72500\n",
      "iter:73000\n",
      "iter:73500\n",
      "iter:74000\n",
      "iter:74500\n",
      "iter:75000\n",
      "iter:75500\n",
      "iter:76000\n",
      "iter:76500\n",
      "iter:77000\n",
      "iter:77500\n",
      "iter:78000\n",
      "iter:78500\n",
      "iter:79000\n",
      "iter:79500\n",
      "iter:80000\n",
      "iter:80500\n",
      "iter:81000\n",
      "iter:81500\n",
      "iter:82000\n",
      "iter:82500\n",
      "iter:83000\n",
      "iter:83500\n",
      "CPU times: user 2h 15min 25s, sys: 1.23 s, total: 2h 15min 26s\n",
      "Wall time: 2h 15min 27s\n"
     ]
    }
   ],
   "source": [
    "%%time \n",
    "from utils.NarrowPassage import gap2occ\n",
    "\n",
    "for i in range(0, len(gapdata)):\n",
    "    occ[i] = gap2occ(gapdata[i], gridSize)\n",
    "    if(i % 500 == 0):\n",
    "        print('iter:{}'.format(i))"
   ]
  },
  {
   "cell_type": "code",
   "execution_count": 9,
   "metadata": {},
   "outputs": [],
   "source": [
    "# data = np.concatenate((sampledata, gapdata, occ), axis=1)\n",
    "# np.savetxt('data/NarrowPassage/narrowDataOcc100.txt', occ, delimiter=\",\")\n",
    "np.savez('data/NarrowPassage/narrowDataOcc100', sampleData=sampledata, gapData=gapdata, occ=occ)"
   ]
  },
  {
   "cell_type": "code",
   "execution_count": 31,
   "metadata": {},
   "outputs": [
    {
     "name": "stdout",
     "output_type": "stream",
     "text": [
      "65735\n"
     ]
    },
    {
     "data": {
      "image/png": "[encoded data removed]",
      "text/plain": [
       "<Figure size 800x480 with 1 Axes>"
      ]
     },
     "metadata": {
      "needs_background": "light"
     },
     "output_type": "display_data"
    },
    {
     "data": {
      "image/png": "[encoded data removed]",
      "text/plain": [
       "<Figure size 432x288 with 1 Axes>"
      ]
     },
     "metadata": {
      "needs_background": "light"
     },
     "output_type": "display_data"
    }
   ],
   "source": [
    "from utils.NarrowPassage import *\n",
    "import torch\n",
    "idx = torch.randint(0,len(gapdata),[1]).item()  \n",
    "print(idx)\n",
    "plotCondition(gapdata[idx])\n",
    "def plotOcc(img):\n",
    "    img = torch.from_numpy(img).permute(1,0)\n",
    "    # occ = ndimage.rotate(occ[0], degree*60)\n",
    "    plt.imshow(img)\n",
    "    plt.gca().invert_yaxis()\n",
    "img = np.reshape(occ[idx], (100,100))\n",
    "plotOcc(img)"
   ]
  },
  {
   "cell_type": "code",
   "execution_count": 4,
   "metadata": {},
   "outputs": [
    {
     "data": {
      "text/plain": [
       "(83731, 10000)"
      ]
     },
     "execution_count": 4,
     "metadata": {},
     "output_type": "execute_result"
    }
   ],
   "source": [
    "data=np.load('data/NarrowPassage/narrowDataOcc100.npz')\n",
    "\n",
    "cond = data['gapData']\n",
    "\n",
    "occ.shape"
   ]
  },
  {
   "cell_type": "code",
   "execution_count": null,
   "metadata": {},
   "outputs": [],
   "source": [
    "data"
   ]
  }
 ],
 "metadata": {
  "kernelspec": {
   "display_name": "Python 3",
   "language": "python",
   "name": "python3"
  },
  "language_info": {
   "codemirror_mode": {
    "name": "ipython",
    "version": 3
   },
   "file_extension": ".py",
   "mimetype": "text/x-python",
   "name": "python",
   "nbconvert_exporter": "python",
   "pygments_lexer": "ipython3",
   "version": "3.7.3"
  }
 },
 "nbformat": 4,
 "nbformat_minor": 2
}
