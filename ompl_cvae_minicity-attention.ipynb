{
 "cells": [
  {
   "cell_type": "code",
   "execution_count": 1,
   "metadata": {},
   "outputs": [
    {
     "name": "stdout",
     "output_type": "stream",
     "text": [
      "Using device cuda:0\n",
      "GeForce GTX 1660 SUPER\n",
      "P106-100\n"
     ]
    }
   ],
   "source": [
    "import numpy as np\n",
    "import os\n",
    "import torch\n",
    "from torch import nn, optim\n",
    "\n",
    "device = torch.device(\"cuda:0\" if torch.cuda.is_available() else \"cpu\")\n",
    "print(\"Using device\", device)\n",
    "print(torch.cuda.get_device_name(0))\n",
    "print(torch.cuda.get_device_name(1))"
   ]
  },
  {
   "cell_type": "code",
   "execution_count": 2,
   "metadata": {},
   "outputs": [],
   "source": [
    "from torch.utils.data import Dataset, DataLoader\n",
    "from data.MinicityDataset import TrafficDataset\n",
    "\n",
    "dbpath = '/home/rong/disk/database/minicity.db'\n",
    "bs = 12\n",
    "train_loader = DataLoader(TrafficDataset(dbpath = dbpath,\n",
    "                            train = True),\n",
    "                         batch_size = bs, shuffle=True, drop_last = True)\n",
    "test_loader = DataLoader(TrafficDataset(dbpath = dbpath,\n",
    "                            train = False),\n",
    "                          batch_size = bs, shuffle=True, drop_last = True)\n",
    "\n",
    "# batch = next(iter(train_loader))\n",
    "# batch['data']"
   ]
  },
  {
   "cell_type": "code",
   "execution_count": 3,
   "metadata": {},
   "outputs": [
    {
     "name": "stdout",
     "output_type": "stream",
     "text": [
      "convVAE(\n",
      "  (condnn): CondNN(\n",
      "    (cnn): Conv3d(\n",
      "      (adap_pool): AdaptiveAvgPool3d(output_size=(25, 200, 200))\n",
      "      (conv_layer1): Sequential(\n",
      "        (0): Conv3d(1, 16, kernel_size=(2, 3, 3), stride=(1, 1, 1))\n",
      "        (1): LeakyReLU(negative_slope=0.01)\n",
      "        (2): Conv3d(16, 16, kernel_size=(2, 3, 3), stride=(1, 1, 1), padding=(1, 1, 1))\n",
      "        (3): LeakyReLU(negative_slope=0.01)\n",
      "        (4): MaxPool3d(kernel_size=(2, 2, 2), stride=(2, 2, 2), padding=0, dilation=1, ceil_mode=False)\n",
      "      )\n",
      "      (conv_layer2): Sequential(\n",
      "        (0): Conv3d(16, 32, kernel_size=(2, 3, 3), stride=(1, 1, 1))\n",
      "        (1): LeakyReLU(negative_slope=0.01)\n",
      "        (2): Conv3d(32, 32, kernel_size=(2, 3, 3), stride=(1, 1, 1), padding=(1, 1, 1))\n",
      "        (3): LeakyReLU(negative_slope=0.01)\n",
      "        (4): MaxPool3d(kernel_size=(2, 2, 2), stride=(2, 2, 2), padding=0, dilation=1, ceil_mode=False)\n",
      "      )\n",
      "      (conv_layer5): Conv3d(32, 64, kernel_size=(1, 3, 3), stride=(1, 1, 1))\n",
      "      (adap_pool2): AdaptiveAvgPool3d(output_size=(6, 20, 20))\n",
      "    )\n",
      "    (Attention): Attention(\n",
      "      (encoder_att): Linear(in_features=67, out_features=64, bias=True)\n",
      "      (condition_att): Linear(in_features=8, out_features=64, bias=True)\n",
      "      (full_att): Linear(in_features=64, out_features=1, bias=True)\n",
      "      (relu): ReLU()\n",
      "      (softmax): Softmax(dim=1)\n",
      "    )\n",
      "    (fc1): Linear(in_features=172, out_features=300, bias=True)\n",
      "  )\n",
      "  (encoder): Encoder(\n",
      "    (sequential): Sequential(\n",
      "      (0): Linear(in_features=304, out_features=512, bias=True)\n",
      "      (1): ReLU()\n",
      "      (2): Linear(in_features=512, out_features=1024, bias=True)\n",
      "      (3): ReLU()\n",
      "      (4): Linear(in_features=1024, out_features=512, bias=True)\n",
      "      (5): ReLU()\n",
      "    )\n",
      "    (linear_means): Linear(in_features=512, out_features=50, bias=True)\n",
      "    (linear_log_var): Linear(in_features=512, out_features=50, bias=True)\n",
      "  )\n",
      "  (decoder): Decoder(\n",
      "    (sequential): Sequential(\n",
      "      (0): Linear(in_features=350, out_features=512, bias=True)\n",
      "      (1): ReLU()\n",
      "      (2): Linear(in_features=512, out_features=1024, bias=True)\n",
      "      (3): ReLU()\n",
      "      (4): Linear(in_features=1024, out_features=512, bias=True)\n",
      "      (5): ReLU()\n",
      "      (6): Linear(in_features=512, out_features=4, bias=True)\n",
      "    )\n",
      "  )\n",
      ")\n"
     ]
    }
   ],
   "source": [
    "from models.minicity import convVAE\n",
    "\n",
    "X_dim = 4\n",
    "traj_size = 25 * 4\n",
    "z_dim = 50\n",
    "cnn_out_size = 300\n",
    "cond_out_size = 300\n",
    "\n",
    "model = convVAE(sample_size = X_dim, \n",
    "                  traj_size = traj_size,\n",
    "                  cnnout_size = cnn_out_size, \n",
    "                  cond_out_size = cond_out_size, \n",
    "                  encoder_layer_sizes = [512,1024,512], \n",
    "                  latent_size = z_dim, \n",
    "                  decoder_layer_sizes = [512,1024,512]).to(device)\n",
    "optimizer = optim.Adam(model.parameters(), lr=5e-4)\n",
    "\n",
    "checkpoint = torch.load('checkpoints/minicity_attention_7.pt')\n",
    "model.load_state_dict(checkpoint['model_state_dict'])\n",
    "optimizer.load_state_dict(checkpoint['optimizer_state_dict'])\n",
    "epoch = checkpoint['epoch']\n",
    "\n",
    "model.eval()\n",
    "print(model)"
   ]
  },
  {
   "cell_type": "code",
   "execution_count": 219,
   "metadata": {},
   "outputs": [
    {
     "name": "stdout",
     "output_type": "stream",
     "text": [
      "8753\n",
      "torch.Size([25, 4])\n",
      "torch.Size([25, 4])\n",
      "time_step:  1276.0\n",
      "start [ 0.      0.     -1.4532  9.86  ]\n",
      "goal [ 16.669998 -20.279999  -0.3976    11.98    ]\n",
      "Using matplotlib backend: Qt5Agg\n",
      "[  0.         0.        -1.4532     9.86      16.669998 -20.279999\n",
      "  -0.3976    11.98    ]\n",
      "155.56666056315106 167.5999959309896\n"
     ]
    }
   ],
   "source": [
    "from utils.Minicity import plotData, plotOrientSpeed, plotAlpha\n",
    "test_data = test_loader.dataset\n",
    "viz_idx =   torch.randint(0,len(test_data),[1]).item()  \n",
    "#  变道场景idx\n",
    "viz_idx = 8753 #弯道\n",
    "# viz_idx = 143300 #弯道\n",
    "# viz_idx = 5107 #直行\n",
    "# viz_idx = 2984 #转盘\n",
    "# viz_idx = 101538 #转盘\n",
    "# viz_idx = 153309 #阻塞\n",
    "# viz_idx = 109779 #变道\n",
    "\n",
    "print(viz_idx)\n",
    "\n",
    "batch = test_data[viz_idx]\n",
    "startgoal = torch.from_numpy(batch[\"start_goal\"]).to(device)\n",
    "occ = torch.from_numpy(batch[\"observation\"])\n",
    "occ = occ[:, 200:600, 200:600]        \n",
    "occ = occ.unsqueeze(0)\n",
    "occ = occ.unsqueeze(1)\n",
    "adap_pool = nn.AdaptiveAvgPool3d((25,200, 200))\n",
    "occ = adap_pool(occ)\n",
    "occ = occ.to(device)\n",
    "traj = torch.from_numpy(batch[\"traj\"]).to(device)\n",
    "print(traj.shape)\n",
    "data = torch.from_numpy(batch[\"data\"]).to(device)\n",
    "egoid = batch[\"egoid\"]\n",
    "print(traj.shape)\n",
    "time_stamp = batch[\"timeprob\"]\n",
    "print(\"time_step: \", time_stamp)\n",
    "\n",
    "with torch.no_grad():\n",
    "    model.eval()\n",
    "    y_viz = torch.randn(1,4).to(device)\n",
    "    for i in range(0, 10):\n",
    "        num_viz = 12\n",
    "        y_viz_p, alpha = model.inference(startgoal.expand(num_viz, X_dim * 2).to(device), traj.expand(num_viz, 25, 4),\n",
    "                                occ.expand(num_viz, 1, -1, -1, -1).to(device), num_viz)\n",
    "        torch.cuda.empty_cache()\n",
    "        y_viz = torch.cat((y_viz_p, y_viz), dim = 0)\n",
    "\n",
    "y_viz=y_viz.cpu().detach().numpy()*50\n",
    "occ=occ.cpu().detach().numpy()\n",
    "startgoal=startgoal.cpu().detach().numpy() * 50\n",
    "print(\"start\", startgoal[0:4])\n",
    "print(\"goal\", startgoal[4:8])\n",
    "\n",
    "data=data.cpu().detach().numpy() * 50\n",
    "alpha=alpha.cpu().detach().numpy()\n",
    "torch.cuda.empty_cache()\n",
    "# from utils.NarrowPassage import plotCondition, plotSample, plotSpeed, plotSampleAttention\n",
    "\n",
    "%matplotlib\n",
    "# from utils.HighWay import plotData, plotOrientSpeed, plotAlpha\n",
    "    \n",
    "y_viz=y_viz[:-1]\n",
    "plotData(occ, startgoal, y_viz)\n",
    "plotOrientSpeed(startgoal, y_viz)\n",
    "# plotAlpha(alpha)"
   ]
  },
  {
   "cell_type": "code",
   "execution_count": 5,
   "metadata": {},
   "outputs": [],
   "source": [
    "plotAlpha(alpha)"
   ]
  },
  {
   "cell_type": "code",
   "execution_count": 6,
   "metadata": {},
   "outputs": [
    {
     "name": "stdout",
     "output_type": "stream",
     "text": [
      "3574\n",
      "[ 0.         0.        -4.533      2.74      -1.1100006  3.0699997\n",
      " -4.3979     0.96     ]\n",
      "96.2999979654948 89.76666768391927\n"
     ]
    }
   ],
   "source": [
    "test_data = test_loader.dataset\n",
    "viz_idx =   torch.randint(0,len(test_data),[1]).item()  \n",
    "#  变道场景idx\n",
    "#  \n",
    "print(viz_idx)\n",
    "\n",
    "batch = test_data[viz_idx]\n",
    "startgoal = torch.from_numpy(batch[\"start_goal\"]).to(device)\n",
    "occ = torch.from_numpy(batch[\"observation\"])\n",
    "occ = occ[:, 200:600, 200:600]        \n",
    "occ = occ.unsqueeze(0)\n",
    "occ = occ.unsqueeze(1)\n",
    "adap_pool = nn.AdaptiveAvgPool3d((25,200, 200))\n",
    "occ = adap_pool(occ)\n",
    "# adap_pool = nn.AdaptiveAvgPool3d((25,100, 600))\n",
    "# occ = adap_pool(occ)\n",
    "occ = occ.to(device)\n",
    "data = torch.from_numpy(batch[\"data\"]).to(device)\n",
    "\n",
    "occ=occ.cpu().detach().numpy()\n",
    "startgoal=startgoal.cpu().detach().numpy() * 50\n",
    "data=data.cpu().detach().numpy() * 50\n",
    "torch.cuda.empty_cache()\n",
    "\n",
    "plotData(occ, startgoal, data)"
   ]
  },
  {
   "cell_type": "markdown",
   "metadata": {},
   "source": [
    "# commonroad collision"
   ]
  },
  {
   "cell_type": "code",
   "execution_count": 7,
   "metadata": {},
   "outputs": [],
   "source": [
    "import os\n",
    "import matplotlib.pyplot as plt\n",
    "\n",
    "from commonroad.common.file_reader import CommonRoadFileReader\n",
    "from commonroad_cc.visualization.draw_dispatch import draw_object\n",
    "\n",
    "file_path = '/home/rong/VAE-Motion-Planning/scenarios/commonroad_data/minicity.cr.xml'\n",
    "# file_path = \"scenarios/commonroad_data/ZAM_Tutorial-1_2_T-1.xml\"\n",
    "# file_path = \"/home/rong/commonroad/commonroad-search-master/GSMP/tools/commonroad-road-boundary/scenarios/GER_Ffb_2.xml\"\n",
    "scenario, _ = CommonRoadFileReader(file_path).open()"
   ]
  },
  {
   "cell_type": "code",
   "execution_count": 20,
   "metadata": {},
   "outputs": [],
   "source": [
    "# plot the scenario\n",
    "plt.figure(figsize=(25, 10))\n",
    "draw_object(scenario)\n",
    "plt.autoscale()\n",
    "plt.gca().set_aspect('equal')\n",
    "plt.show()"
   ]
  },
  {
   "cell_type": "code",
   "execution_count": 218,
   "metadata": {},
   "outputs": [
    {
     "name": "stdout",
     "output_type": "stream",
     "text": [
      "Using matplotlib backend: Qt5Agg\n"
     ]
    }
   ],
   "source": [
    "from commonroad.scenario.scenario import Scenario\n",
    "from commonroad.scenario.trajectory import State as StateTupleFactory\n",
    "from commonroad.scenario.obstacle import StaticObstacle, ObstacleType, Obstacle\n",
    "import numpy as np\n",
    "from commonroad.geometry.shape import Polygon, ShapeGroup, Circle\n",
    "from commonroad_cc.collision_detection.pycrcc_collision_dispatch import create_collision_checker, create_collision_object\n",
    "import pycrcc\n",
    "\n",
    "carcc = create_collision_checker(scenario)\n",
    "\n",
    "from scenarios.commonroad_road_boundary.construction import construct\n",
    "\n",
    "%matplotlib\n",
    "\n",
    "build = ['section_triangles']\n",
    "# boundary = construct(scenario, build, ['section_triangles'], ['plot'])\n",
    "boundary = construct(scenario, build, ['section_triangles'], [])\n",
    "\n",
    "road_boundary_shape_list = list()\n",
    "initial_state = None\n",
    "for r in boundary['section_triangles'].unpack():\n",
    "    initial_state = StateTupleFactory(position=np.array([0, 0]), orientation=0.0, time_step=0)\n",
    "    p = Polygon(np.array(r.vertices()))\n",
    "    road_boundary_shape_list.append(p)\n",
    "road_bound = StaticObstacle(obstacle_id=scenario.generate_object_id(), obstacle_type=ObstacleType.ROAD_BOUNDARY,\n",
    "                            obstacle_shape=ShapeGroup(road_boundary_shape_list), initial_state=initial_state)\n",
    "\n",
    "roadcc = pycrcc.CollisionChecker()\n",
    "roadcc.add_collision_object(create_collision_object(road_bound))"
   ]
  },
  {
   "cell_type": "code",
   "execution_count": 124,
   "metadata": {},
   "outputs": [
    {
     "name": "stdout",
     "output_type": "stream",
     "text": [
      "Collision between the trajectory of the ego vehicle and objects in the environment:  False\n",
      "Collision between the trajectory of the ego vehicle and road:  True\n"
     ]
    }
   ],
   "source": [
    "import numpy as np\n",
    "from commonroad.scenario.trajectory import State, Trajectory\n",
    "from commonroad.prediction.prediction import TrajectoryPrediction\n",
    "from commonroad.geometry.shape import Rectangle\n",
    "from commonroad.scenario.obstacle import StaticObstacle\n",
    "from commonroad_cc.collision_detection.pycrcc_collision_dispatch import create_collision_object\n",
    "\n",
    "# # create a trajectory for the ego vehicle starting at time step 0\n",
    "time_start = 0\n",
    "position = np.array([[10, 0]])\n",
    "orientation = [0]\n",
    "state_list = list()\n",
    "for k in range(0, len(position)):\n",
    "    state_list.append(State(**{'position': position[k], 'orientation':orientation[k]}))\n",
    "trajectory = Trajectory(time_start, state_list)\n",
    "# create the shape of the ego vehicle\n",
    "shape = Rectangle(length=3.9, width=1.9)\n",
    "# # create a TrajectoryPrediction object consisting of the trajectory and the shape of the ego vehicle\n",
    "traj_pred = TrajectoryPrediction(trajectory=trajectory, shape=shape)\n",
    "# create a collision object using the trajectory prediction of the ego vehicle\n",
    "co = create_collision_object(traj_pred)\n",
    "\n",
    "# test the trajectory of the ego vehicle for collisions\n",
    "print('Collision between the trajectory of the ego vehicle and objects in the environment: ', carcc.collide(co))\n",
    "print('Collision between the trajectory of the ego vehicle and road: ', roadcc.collide(co))"
   ]
  },
  {
   "cell_type": "markdown",
   "metadata": {},
   "source": [
    "# ompl"
   ]
  },
  {
   "cell_type": "code",
   "execution_count": 213,
   "metadata": {},
   "outputs": [
    {
     "name": "stdout",
     "output_type": "stream",
     "text": [
      "\n",
      "<__main__.ValidityChecker object at 0x7f13fba1e378>\n"
     ]
    }
   ],
   "source": [
    "from ompl import base as ob\n",
    "from ompl import control as oc\n",
    "from ompl import app as oa\n",
    "\n",
    "class ValidityChecker(ob.StateValidityChecker):\n",
    "    def __init__(self,  si, ccc, ccr):\n",
    "        super(ValidityChecker, self).__init__(si)\n",
    "        self.ccc = ccc\n",
    "        self.ccr = ccr\n",
    "        self.count = 0\n",
    "        self.collision_count = 0\n",
    "        self.states_ok = []\n",
    "        self.states_bad = []\n",
    "        print(\"\")\n",
    "        # Returns whether the given state's position overlaps the\n",
    "        # circular obstacle\n",
    "    def isValid(self, state):\n",
    "#         print(\"collision\")\n",
    "        time_start = 1276\n",
    "#         print(state[0])\n",
    "        position = np.array([[state[0].getX(), state[0].getY()]])\n",
    "        orientation = [state[0].getYaw()]\n",
    "        state_list = list()\n",
    "        for k in range(0, len(position)):\n",
    "            state_list.append(State(**{'position': position[k], 'orientation':orientation[k]}))\n",
    "        trajectory = Trajectory(time_start, state_list)\n",
    "        # create the shape of the ego vehicle\n",
    "        shape = Rectangle(length=3.9, width=1.9)\n",
    "        # # create a TrajectoryPrediction object consisting of the trajectory and the shape of the ego vehicle\n",
    "        traj_pred = TrajectoryPrediction(trajectory=trajectory, shape=shape)\n",
    "        co = create_collision_object(traj_pred)\n",
    "\n",
    "        result_ccc = self.ccc.collide(co)\n",
    "        result_ccr = self.ccr.collide(co)\n",
    "        result = result_ccr and not result_ccc\n",
    "        self.count += 1\n",
    "#         print(\"count\", self.count)\n",
    "        if not result:\n",
    "            self.collision_count += 1\n",
    "#             print(\"collision\", self.collision_count)\n",
    "#             self.states_bad.append(sample)\n",
    "#         else:\n",
    "#             self.states_ok.append(sample)\n",
    "        return result\n",
    "\n",
    "car = oa.DynamicCarPlanning()\n",
    "mychecker = ValidityChecker(car.getSpaceInformation(), carcc, roadcc)\n",
    "print(mychecker)"
   ]
  },
  {
   "cell_type": "code",
   "execution_count": 214,
   "metadata": {},
   "outputs": [],
   "source": [
    "import sys\n",
    "from os.path import abspath, dirname, join\n",
    "\n",
    "from ompl import base as ob\n",
    "from ompl import control as oc\n",
    "from ompl import app as oa\n",
    "\n",
    "\n",
    "import matplotlib.pyplot as plt\n",
    "\n",
    "def plt_ompl_result(path):\n",
    "    fig1 = plt.figure(figsize=(10, 6), dpi=80)\n",
    "    ax1 = fig1.add_subplot(111, aspect='equal')   \n",
    "    draw_object(scenario)\n",
    "\n",
    "    states = path.getStates()\n",
    "    for state in states:\n",
    "        state = state[0]\n",
    "        plt.scatter(state.getX(), state.getY(), color=\"green\", s=250, edgecolors='black')  # path\n",
    "    #     for state in collisionchecker.states_ok:\n",
    "    #         plt.scatter(state[0], state[1], color=\"green\", s=100, edgecolors='green')  # free sample\n",
    "    #     for state in collisionchecker.states_bad:\n",
    "    #         plt.scatter(state[0], state[1], color=\"red\", s=100, edgecolors='red')  # collision sample\n",
    "    # plt.scatter(start().getX(), start().getY(), color=\"blue\", s=250, edgecolors='black')  # init\n",
    "    # plt.scatter(goal().getX(), goal().getY(), color=\"red\", s=250, edgecolors='black')  # goal\n",
    "\n",
    "    plt.xlabel('x')\n",
    "    plt.ylabel('y')\n",
    "    plt.show()\n",
    "    \n",
    "def dynamicCarDemo(setup):\n",
    "    print(\"\\n\\n***** Planning for a %s *****\\n\" % setup.getName())\n",
    "    # plan for dynamic car in SE(2)\n",
    "    stateSpace = setup.getStateSpace()\n",
    "\n",
    "    # set the bounds for the R^2 part of SE(2)\n",
    "    bounds = ob.RealVectorBounds(2)\n",
    "    bounds.setLow(50)\n",
    "    bounds.setHigh(150)\n",
    "    stateSpace.getSubspace(0).setBounds(bounds)\n",
    "    bounds.setLow(0, -3)\n",
    "    bounds.setHigh(0, 15)\n",
    "    bounds.setLow(1, -0.52)\n",
    "    bounds.setHigh(1, 0.52)\n",
    "    stateSpace.getSubspace(1).setBounds(bounds)\n",
    "    print(setup.getStateSpace().getSubspace(1).getBounds().high[0])\n",
    "\n",
    "    # define start state\n",
    "    start = ob.State(stateSpace)\n",
    "    start[0] = 90\n",
    "    start[1] = 99\n",
    "    start[2] = 0\n",
    "    start[3] = 1.1\n",
    "    start[4] = 0\n",
    "\n",
    "    # define goal state\n",
    "    goal = ob.State(stateSpace)\n",
    "    goal[0] = 100\n",
    "    goal[1] = 99\n",
    "    goal[2] = 0\n",
    "    goal[3] = 10\n",
    "    goal[4] = 0\n",
    "\n",
    "    # set the start & goal states\n",
    "    setup.setStartAndGoalStates(start, goal, .5)\n",
    "    setup.getSpaceInformation().setStateValidityChecker(mychecker)\n",
    "\n",
    "#     print(setup.getSpaceInformation().getStateValidityChecker())\n",
    "    planner = oc.RRT(setup.getSpaceInformation())\n",
    "\n",
    "    \n",
    "    setup.setPlanner(planner)\n",
    "#     print(planner.getSpaceInformation().getStateValidityChecker())\n",
    "    planner.setProblemDefinition(setup.getProblemDefinition())\n",
    "#     setup.getPlanner().setup()\n",
    "    # try to solve the problem\n",
    "    plan_res =  planner.solve(40)\n",
    "    if plan_res:\n",
    "        path = planner.getProblemDefinition().getSolutionPath()\n",
    "        path.interpolate(); # uncomment if you want to plot the path\n",
    "        print(path.printAsMatrix())\n",
    "        if not setup.haveExactSolutionPath():\n",
    "            print(\"Solution is approximate. Distance to actual goal is %g\" %\n",
    "                  setup.getProblemDefinition().getSolutionDifference())\n",
    "        return path\n",
    "    else:\n",
    "        print(\"plan fail\")\n",
    "\n",
    "\n",
    "car = oa.DynamicCarPlanning()\n",
    "car.getSpaceInformation().setStateValidityChecker(mychecker)\n",
    "car.getSpaceInformation().setPropagationStepSize(0.3)\n",
    "car.getSpaceInformation().setStateValidityCheckingResolution(0.0001)\n",
    "\n",
    "# path = dynamicCarDemo(car)\n",
    "# plt_ompl_result(path)"
   ]
  },
  {
   "cell_type": "code",
   "execution_count": 174,
   "metadata": {
    "scrolled": true
   },
   "outputs": [
    {
     "name": "stdout",
     "output_type": "stream",
     "text": [
      "\n",
      "\n",
      "***** Planning for a Dynamic car *****\n",
      "\n",
      "15.0\n",
      "90 99 0 1.1 0 0 0 0\n",
      "90.3475 99 3.20515e-05 1.21639 0.000181452 0.387958 0.000604841 0.3\n",
      "90.7298 99 0.000136654 1.33277 0.000362905 0.387958 0.000604841 0.3\n",
      "91.1471 99.0001 0.000326477 1.44916 0.000544357 0.387958 0.000604841 0.3\n",
      "91.5993 99.0003 0.000614194 1.56555 0.000725809 0.387958 0.000604841 0.3\n",
      "92.0865 99.0007 0.00101248 1.68194 0.000907261 0.387958 0.000604841 0.3\n",
      "92.6085 99.0014 0.00153399 1.79832 0.00108871 0.387958 0.000604841 0.3\n",
      "93.1654 99.0024 0.00219142 1.91471 0.00127017 0.387958 0.000604841 0.3\n",
      "93.7573 99.004 0.00299742 2.0311 0.00145162 0.387958 0.000604841 0.3\n",
      "94.3841 99.0061 0.00396467 2.14749 0.00163307 0.387958 0.000604841 0.3\n",
      "95.0458 99.0091 0.00510584 2.26387 0.00181452 0.387958 0.000604841 0.3\n",
      "95.7279 99.0133 0.00773884 2.28384 0.00589907 0.0665538 0.0136152 0.3\n",
      "96.416 99.0204 0.0132058 2.30381 0.00998363 0.0665538 0.0136152 0.3\n",
      "97.1101 99.0323 0.0215559 2.32377 0.0140682 0.0665538 0.0136152 0.3\n",
      "97.8099 99.0512 0.0328383 2.34374 0.0181527 0.0665538 0.0136152 0.3\n",
      "98.5155 99.0792 0.0471023 2.3637 0.0222373 0.0665538 0.0136152 0.3\n",
      "99.2265 99.1187 0.0643974 2.38367 0.0263218 0.0665538 0.0136152 0.3\n",
      "99.9426 99.172 0.0847731 2.40364 0.0304064 0.0665538 0.0136152 0.3\n",
      "\n",
      "Solution is approximate. Distance to actual goal is 2.50269\n"
     ]
    }
   ],
   "source": [
    "path = dynamicCarDemo(car)\n",
    "plt_ompl_result(path)"
   ]
  },
  {
   "cell_type": "code",
   "execution_count": 203,
   "metadata": {},
   "outputs": [
    {
     "data": {
      "text/plain": [
       "1039870"
      ]
     },
     "execution_count": 203,
     "metadata": {},
     "output_type": "execute_result"
    }
   ],
   "source": [
    "mychecker.count"
   ]
  },
  {
   "cell_type": "code",
   "execution_count": 204,
   "metadata": {},
   "outputs": [
    {
     "data": {
      "text/plain": [
       "268252"
      ]
     },
     "execution_count": 204,
     "metadata": {},
     "output_type": "execute_result"
    }
   ],
   "source": [
    "mychecker.collision_count"
   ]
  },
  {
   "cell_type": "code",
   "execution_count": 215,
   "metadata": {},
   "outputs": [],
   "source": [
    "def dynamicCarMinicity(setup, basepose, startgoal):\n",
    "    print(\"\\n\\n***** Planning for a %s *****\\n\" % setup.getName())\n",
    "    # plan for dynamic car in SE(2)\n",
    "    stateSpace = setup.getStateSpace()\n",
    "    sizebound = 50\n",
    "    # set the bounds for the R^2 part of SE(2)\n",
    "    bounds = ob.RealVectorBounds(2)\n",
    "    bounds.setLow(0, basepose[0] - sizebound)\n",
    "    bounds.setHigh(0, basepose[0] + sizebound)\n",
    "    bounds.setLow(1, basepose[1]- sizebound)\n",
    "    bounds.setHigh(1, basepose[1] + sizebound)\n",
    "    stateSpace.getSubspace(0).setBounds(bounds)\n",
    "    bounds.setLow(0, -7)\n",
    "    bounds.setHigh(0, 15)\n",
    "    bounds.setLow(1, -0.52)\n",
    "    bounds.setHigh(1, 0.52)\n",
    "    stateSpace.getSubspace(1).setBounds(bounds)\n",
    "    print(setup.getStateSpace().getSubspace(0).getBounds().high[0])\n",
    "\n",
    "    # define start state\n",
    "    start = ob.State(stateSpace)\n",
    "    start[0] = float(startgoal[0])\n",
    "    start[1] = float(startgoal[1])\n",
    "    start[2] = float(startgoal[2]) + 3.14\n",
    "    start[3] = float(startgoal[3])\n",
    "    start[4] = 0\n",
    "\n",
    "    print(start)\n",
    "    # define goal state\n",
    "    goal = ob.State(stateSpace)\n",
    "    goal[0] = float(startgoal[4])\n",
    "    goal[1] = float(startgoal[5])\n",
    "    goal[2] = float(startgoal[6]) + 3.14\n",
    "    goal[3] = float(startgoal[7])\n",
    "    goal[4] = 0\n",
    "    print(goal)\n",
    "\n",
    "    # set the start & goal states\n",
    "    setup.setStartAndGoalStates(start, goal, .5)\n",
    "    setup.getSpaceInformation().setStateValidityChecker(mychecker)\n",
    "\n",
    "#     print(setup.getSpaceInformation().getStateValidityChecker())\n",
    "    planner = oc.RRT(setup.getSpaceInformation())\n",
    "\n",
    "    \n",
    "    setup.setPlanner(planner)\n",
    "#     print(planner.getSpaceInformation().getStateValidityChecker())\n",
    "    planner.setProblemDefinition(setup.getProblemDefinition())\n",
    "#     setup.getPlanner().setup()\n",
    "    # try to solve the problem\n",
    "    plan_res =  planner.solve(40)\n",
    "    if plan_res:\n",
    "        path = planner.getProblemDefinition().getSolutionPath()\n",
    "        path.interpolate(); # uncomment if you want to plot the path\n",
    "        print(path.printAsMatrix())\n",
    "        if not setup.haveExactSolutionPath():\n",
    "            print(\"Solution is approximate. Distance to actual goal is %g\" %\n",
    "                  setup.getProblemDefinition().getSolutionDifference())\n",
    "        return path\n",
    "    else:\n",
    "        print(\"plan fail\")"
   ]
  },
  {
   "cell_type": "code",
   "execution_count": 221,
   "metadata": {},
   "outputs": [],
   "source": [
    "startgoal[0] += basepose[0]\n",
    "startgoal[1] += basepose[1]\n",
    "startgoal[4] += basepose[0]\n",
    "startgoal[5] += basepose[1]"
   ]
  },
  {
   "cell_type": "code",
   "execution_count": 224,
   "metadata": {
    "scrolled": true
   },
   "outputs": [
    {
     "name": "stderr",
     "output_type": "stream",
     "text": [
      "/home/rong/.conda/envs/flow/lib/python3.6/site-packages/commonroad/scenario/scenario.py:183: UserWarning: <Scenario/obstacle_by_id> Obstacle with ID 310 is not contained in the scenario.\n",
      "  % obstacle_id)\n"
     ]
    },
    {
     "ename": "AttributeError",
     "evalue": "'NoneType' object has no attribute 'occupancy_at_time'",
     "output_type": "error",
     "traceback": [
      "\u001b[0;31m---------------------------------------------------------------------------\u001b[0m",
      "\u001b[0;31mAttributeError\u001b[0m                            Traceback (most recent call last)",
      "\u001b[0;32m<ipython-input-224-9c3626ee96d6>\u001b[0m in \u001b[0;36m<module>\u001b[0;34m\u001b[0m\n\u001b[1;32m      1\u001b[0m \u001b[0mego\u001b[0m \u001b[0;34m=\u001b[0m \u001b[0mscenario\u001b[0m\u001b[0;34m.\u001b[0m\u001b[0mobstacle_by_id\u001b[0m\u001b[0;34m(\u001b[0m\u001b[0megoid\u001b[0m\u001b[0;34m)\u001b[0m\u001b[0;34m\u001b[0m\u001b[0;34m\u001b[0m\u001b[0m\n\u001b[0;32m----> 2\u001b[0;31m \u001b[0mbasepose\u001b[0m \u001b[0;34m=\u001b[0m \u001b[0mego\u001b[0m\u001b[0;34m.\u001b[0m\u001b[0moccupancy_at_time\u001b[0m\u001b[0;34m(\u001b[0m\u001b[0mint\u001b[0m\u001b[0;34m(\u001b[0m\u001b[0mtime_stamp\u001b[0m\u001b[0;34m)\u001b[0m\u001b[0;34m)\u001b[0m\u001b[0;34m.\u001b[0m\u001b[0mshape\u001b[0m\u001b[0;34m.\u001b[0m\u001b[0mcenter\u001b[0m\u001b[0;34m\u001b[0m\u001b[0;34m\u001b[0m\u001b[0m\n\u001b[0m\u001b[1;32m      3\u001b[0m \u001b[0mscenario\u001b[0m\u001b[0;34m.\u001b[0m\u001b[0mremove_obstacle\u001b[0m\u001b[0;34m(\u001b[0m\u001b[0mego\u001b[0m\u001b[0;34m)\u001b[0m\u001b[0;34m\u001b[0m\u001b[0;34m\u001b[0m\u001b[0m\n\u001b[1;32m      4\u001b[0m \u001b[0;34m\u001b[0m\u001b[0m\n\u001b[1;32m      5\u001b[0m \u001b[0mpath\u001b[0m \u001b[0;34m=\u001b[0m \u001b[0mdynamicCarMinicity\u001b[0m\u001b[0;34m(\u001b[0m\u001b[0mcar\u001b[0m\u001b[0;34m,\u001b[0m \u001b[0mbasepose\u001b[0m\u001b[0;34m,\u001b[0m \u001b[0mstartgoal\u001b[0m\u001b[0;34m)\u001b[0m\u001b[0;34m\u001b[0m\u001b[0;34m\u001b[0m\u001b[0m\n",
      "\u001b[0;31mAttributeError\u001b[0m: 'NoneType' object has no attribute 'occupancy_at_time'"
     ]
    }
   ],
   "source": [
    "ego = scenario.obstacle_by_id(egoid)\n",
    "basepose = ego.occupancy_at_time(int(time_stamp)).shape.center\n",
    "scenario.remove_obstacle(ego)\n",
    "\n",
    "path = dynamicCarMinicity(car, basepose, startgoal)"
   ]
  },
  {
   "cell_type": "code",
   "execution_count": 212,
   "metadata": {},
   "outputs": [],
   "source": [
    "plt_ompl_result(path)"
   ]
  },
  {
   "cell_type": "code",
   "execution_count": 225,
   "metadata": {},
   "outputs": [
    {
     "ename": "ValueError",
     "evalue": "<Scenario/add_objects> argument \"scenario_object\" of wrong type. Expected types: <class 'list'>, <class 'commonroad.scenario.obstacle.Obstacle'>, <class 'commonroad.scenario.lanelet.Lanelet'>, and <class 'commonroad.scenario.lanelet.LaneletNetwork'>. Got type: <class 'NoneType'>.",
     "output_type": "error",
     "traceback": [
      "\u001b[0;31m---------------------------------------------------------------------------\u001b[0m",
      "\u001b[0;31mValueError\u001b[0m                                Traceback (most recent call last)",
      "\u001b[0;32m<ipython-input-225-51a2ace4527d>\u001b[0m in \u001b[0;36m<module>\u001b[0;34m\u001b[0m\n\u001b[0;32m----> 1\u001b[0;31m \u001b[0mscenario\u001b[0m\u001b[0;34m.\u001b[0m\u001b[0madd_objects\u001b[0m\u001b[0;34m(\u001b[0m\u001b[0mego\u001b[0m\u001b[0;34m)\u001b[0m\u001b[0;34m\u001b[0m\u001b[0;34m\u001b[0m\u001b[0m\n\u001b[0m",
      "\u001b[0;32m~/.conda/envs/flow/lib/python3.6/site-packages/commonroad/scenario/scenario.py\u001b[0m in \u001b[0;36madd_objects\u001b[0;34m(self, scenario_object)\u001b[0m\n\u001b[1;32m    119\u001b[0m             raise ValueError('<Scenario/add_objects> argument \"scenario_object\" of wrong type. '\n\u001b[1;32m    120\u001b[0m                              \u001b[0;34m'Expected types: %s, %s, %s, and %s. Got type: %s.'\u001b[0m\u001b[0;34m\u001b[0m\u001b[0;34m\u001b[0m\u001b[0m\n\u001b[0;32m--> 121\u001b[0;31m                              % (list, Obstacle, Lanelet, LaneletNetwork, type(scenario_object)))\n\u001b[0m\u001b[1;32m    122\u001b[0m \u001b[0;34m\u001b[0m\u001b[0m\n\u001b[1;32m    123\u001b[0m     \u001b[0;32mdef\u001b[0m \u001b[0mremove_obstacle\u001b[0m\u001b[0;34m(\u001b[0m\u001b[0mself\u001b[0m\u001b[0;34m,\u001b[0m \u001b[0mobstacle\u001b[0m\u001b[0;34m:\u001b[0m \u001b[0mUnion\u001b[0m\u001b[0;34m[\u001b[0m\u001b[0mObstacle\u001b[0m\u001b[0;34m,\u001b[0m \u001b[0mList\u001b[0m\u001b[0;34m[\u001b[0m\u001b[0mObstacle\u001b[0m\u001b[0;34m]\u001b[0m\u001b[0;34m]\u001b[0m\u001b[0;34m)\u001b[0m\u001b[0;34m:\u001b[0m\u001b[0;34m\u001b[0m\u001b[0;34m\u001b[0m\u001b[0m\n",
      "\u001b[0;31mValueError\u001b[0m: <Scenario/add_objects> argument \"scenario_object\" of wrong type. Expected types: <class 'list'>, <class 'commonroad.scenario.obstacle.Obstacle'>, <class 'commonroad.scenario.lanelet.Lanelet'>, and <class 'commonroad.scenario.lanelet.LaneletNetwork'>. Got type: <class 'NoneType'>."
     ]
    }
   ],
   "source": [
    "scenario.add_objects(ego)"
   ]
  },
  {
   "cell_type": "code",
   "execution_count": 223,
   "metadata": {},
   "outputs": [
    {
     "data": {
      "text/plain": [
       "array([154.89, 153.59])"
      ]
     },
     "execution_count": 223,
     "metadata": {},
     "output_type": "execute_result"
    }
   ],
   "source": [
    "basepose"
   ]
  },
  {
   "cell_type": "code",
   "execution_count": null,
   "metadata": {},
   "outputs": [],
   "source": []
  }
 ],
 "metadata": {
  "kernelspec": {
   "display_name": "Python 3",
   "language": "python",
   "name": "python3"
  },
  "language_info": {
   "codemirror_mode": {
    "name": "ipython",
    "version": 3
   },
   "file_extension": ".py",
   "mimetype": "text/x-python",
   "name": "python",
   "nbconvert_exporter": "python",
   "pygments_lexer": "ipython3",
   "version": "3.6.8"
  }
 },
 "nbformat": 4,
 "nbformat_minor": 4
}
